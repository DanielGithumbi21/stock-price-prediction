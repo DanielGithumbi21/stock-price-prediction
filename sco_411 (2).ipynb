{
  "nbformat": 4,
  "nbformat_minor": 5,
  "metadata": {
    "kernelspec": {
      "display_name": "firstEnv",
      "language": "python",
      "name": "firstenv"
    },
    "language_info": {
      "codemirror_mode": {
        "name": "ipython",
        "version": 3
      },
      "file_extension": ".py",
      "mimetype": "text/x-python",
      "name": "python",
      "nbconvert_exporter": "python",
      "pygments_lexer": "ipython3",
      "version": "3.9.6"
    },
    "colab": {
      "name": "sco 411.ipynb",
      "provenance": [],
      "collapsed_sections": []
    }
  },
  "cells": [
    {
      "cell_type": "code",
      "metadata": {
        "id": "15d72e7a"
      },
      "source": [
        "# Data collection\n",
        "import pandas_datareader as pdr\n",
        "df = pdr.get_data_tiingo ('AAPL',api_key = '9cc1ec29a5ac83b9470b1faf03a1825e455f1bb6')"
      ],
      "id": "15d72e7a",
      "execution_count": 1,
      "outputs": []
    },
    {
      "cell_type": "code",
      "metadata": {
        "id": "2b9ce22b"
      },
      "source": [
        "# converting the collected data to a csv file\n",
        "df.to_csv ('AAPL.csv')"
      ],
      "id": "2b9ce22b",
      "execution_count": 2,
      "outputs": []
    },
    {
      "cell_type": "code",
      "metadata": {
        "id": "51bb6e42"
      },
      "source": [
        "import pandas as pd"
      ],
      "id": "51bb6e42",
      "execution_count": 3,
      "outputs": []
    },
    {
      "cell_type": "code",
      "metadata": {
        "id": "11cf5ebf"
      },
      "source": [
        "# Reading the CSV file\n",
        "df = pd.read_csv ('AAPL.csv')"
      ],
      "id": "11cf5ebf",
      "execution_count": 4,
      "outputs": []
    },
    {
      "cell_type": "code",
      "metadata": {
        "colab": {
          "base_uri": "https://localhost:8080/"
        },
        "id": "17272c62",
        "outputId": "e2f43861-52bb-4511-a725-82522906e14f"
      },
      "source": [
        "df.shape "
      ],
      "id": "17272c62",
      "execution_count": 5,
      "outputs": [
        {
          "output_type": "execute_result",
          "data": {
            "text/plain": [
              "(1257, 14)"
            ]
          },
          "metadata": {},
          "execution_count": 5
        }
      ]
    },
    {
      "cell_type": "code",
      "metadata": {
        "colab": {
          "base_uri": "https://localhost:8080/",
          "height": 204
        },
        "id": "iADDzJ6id2yx",
        "outputId": "47a55e86-acb9-47a7-867e-46662360c16c"
      },
      "source": [
        "df.tail(5)"
      ],
      "id": "iADDzJ6id2yx",
      "execution_count": 6,
      "outputs": [
        {
          "output_type": "execute_result",
          "data": {
            "text/html": [
              "<div>\n",
              "<style scoped>\n",
              "    .dataframe tbody tr th:only-of-type {\n",
              "        vertical-align: middle;\n",
              "    }\n",
              "\n",
              "    .dataframe tbody tr th {\n",
              "        vertical-align: top;\n",
              "    }\n",
              "\n",
              "    .dataframe thead th {\n",
              "        text-align: right;\n",
              "    }\n",
              "</style>\n",
              "<table border=\"1\" class=\"dataframe\">\n",
              "  <thead>\n",
              "    <tr style=\"text-align: right;\">\n",
              "      <th></th>\n",
              "      <th>symbol</th>\n",
              "      <th>date</th>\n",
              "      <th>close</th>\n",
              "      <th>high</th>\n",
              "      <th>low</th>\n",
              "      <th>open</th>\n",
              "      <th>volume</th>\n",
              "      <th>adjClose</th>\n",
              "      <th>adjHigh</th>\n",
              "      <th>adjLow</th>\n",
              "      <th>adjOpen</th>\n",
              "      <th>adjVolume</th>\n",
              "      <th>divCash</th>\n",
              "      <th>splitFactor</th>\n",
              "    </tr>\n",
              "  </thead>\n",
              "  <tbody>\n",
              "    <tr>\n",
              "      <th>1252</th>\n",
              "      <td>AAPL</td>\n",
              "      <td>2021-09-13 00:00:00+00:00</td>\n",
              "      <td>149.55</td>\n",
              "      <td>151.42</td>\n",
              "      <td>148.750</td>\n",
              "      <td>150.63</td>\n",
              "      <td>102404329</td>\n",
              "      <td>149.55</td>\n",
              "      <td>151.42</td>\n",
              "      <td>148.750</td>\n",
              "      <td>150.63</td>\n",
              "      <td>102404329</td>\n",
              "      <td>0.0</td>\n",
              "      <td>1.0</td>\n",
              "    </tr>\n",
              "    <tr>\n",
              "      <th>1253</th>\n",
              "      <td>AAPL</td>\n",
              "      <td>2021-09-14 00:00:00+00:00</td>\n",
              "      <td>148.12</td>\n",
              "      <td>151.07</td>\n",
              "      <td>146.910</td>\n",
              "      <td>150.35</td>\n",
              "      <td>109296295</td>\n",
              "      <td>148.12</td>\n",
              "      <td>151.07</td>\n",
              "      <td>146.910</td>\n",
              "      <td>150.35</td>\n",
              "      <td>109296295</td>\n",
              "      <td>0.0</td>\n",
              "      <td>1.0</td>\n",
              "    </tr>\n",
              "    <tr>\n",
              "      <th>1254</th>\n",
              "      <td>AAPL</td>\n",
              "      <td>2021-09-15 00:00:00+00:00</td>\n",
              "      <td>149.03</td>\n",
              "      <td>149.44</td>\n",
              "      <td>146.370</td>\n",
              "      <td>148.56</td>\n",
              "      <td>83281315</td>\n",
              "      <td>149.03</td>\n",
              "      <td>149.44</td>\n",
              "      <td>146.370</td>\n",
              "      <td>148.56</td>\n",
              "      <td>83281315</td>\n",
              "      <td>0.0</td>\n",
              "      <td>1.0</td>\n",
              "    </tr>\n",
              "    <tr>\n",
              "      <th>1255</th>\n",
              "      <td>AAPL</td>\n",
              "      <td>2021-09-16 00:00:00+00:00</td>\n",
              "      <td>148.79</td>\n",
              "      <td>148.97</td>\n",
              "      <td>147.221</td>\n",
              "      <td>148.44</td>\n",
              "      <td>68034149</td>\n",
              "      <td>148.79</td>\n",
              "      <td>148.97</td>\n",
              "      <td>147.221</td>\n",
              "      <td>148.44</td>\n",
              "      <td>68034149</td>\n",
              "      <td>0.0</td>\n",
              "      <td>1.0</td>\n",
              "    </tr>\n",
              "    <tr>\n",
              "      <th>1256</th>\n",
              "      <td>AAPL</td>\n",
              "      <td>2021-09-17 00:00:00+00:00</td>\n",
              "      <td>146.06</td>\n",
              "      <td>148.82</td>\n",
              "      <td>145.760</td>\n",
              "      <td>148.82</td>\n",
              "      <td>129868824</td>\n",
              "      <td>146.06</td>\n",
              "      <td>148.82</td>\n",
              "      <td>145.760</td>\n",
              "      <td>148.82</td>\n",
              "      <td>129868824</td>\n",
              "      <td>0.0</td>\n",
              "      <td>1.0</td>\n",
              "    </tr>\n",
              "  </tbody>\n",
              "</table>\n",
              "</div>"
            ],
            "text/plain": [
              "     symbol                       date   close  ...  adjVolume  divCash  splitFactor\n",
              "1252   AAPL  2021-09-13 00:00:00+00:00  149.55  ...  102404329      0.0          1.0\n",
              "1253   AAPL  2021-09-14 00:00:00+00:00  148.12  ...  109296295      0.0          1.0\n",
              "1254   AAPL  2021-09-15 00:00:00+00:00  149.03  ...   83281315      0.0          1.0\n",
              "1255   AAPL  2021-09-16 00:00:00+00:00  148.79  ...   68034149      0.0          1.0\n",
              "1256   AAPL  2021-09-17 00:00:00+00:00  146.06  ...  129868824      0.0          1.0\n",
              "\n",
              "[5 rows x 14 columns]"
            ]
          },
          "metadata": {},
          "execution_count": 6
        }
      ]
    },
    {
      "cell_type": "code",
      "metadata": {
        "id": "f93e9dae"
      },
      "source": [
        "# Taking in the close column to do the stock prediction\n",
        "df2 = df.reset_index () ['close']"
      ],
      "id": "f93e9dae",
      "execution_count": 7,
      "outputs": []
    },
    {
      "cell_type": "code",
      "metadata": {
        "colab": {
          "base_uri": "https://localhost:8080/"
        },
        "id": "d3c05ed2",
        "outputId": "41e68fec-352b-4e50-9964-0d896eaa1267"
      },
      "source": [
        "df2.size"
      ],
      "id": "d3c05ed2",
      "execution_count": 8,
      "outputs": [
        {
          "output_type": "execute_result",
          "data": {
            "text/plain": [
              "1257"
            ]
          },
          "metadata": {},
          "execution_count": 8
        }
      ]
    },
    {
      "cell_type": "code",
      "metadata": {
        "colab": {
          "base_uri": "https://localhost:8080/"
        },
        "id": "Px9ILQuie2a0",
        "outputId": "29dbd9b5-fa5b-48c5-8909-c9170780c877"
      },
      "source": [
        "df2"
      ],
      "id": "Px9ILQuie2a0",
      "execution_count": 9,
      "outputs": [
        {
          "output_type": "execute_result",
          "data": {
            "text/plain": [
              "0       113.55\n",
              "1       114.62\n",
              "2       112.71\n",
              "3       112.88\n",
              "4       113.09\n",
              "         ...  \n",
              "1252    149.55\n",
              "1253    148.12\n",
              "1254    149.03\n",
              "1255    148.79\n",
              "1256    146.06\n",
              "Name: close, Length: 1257, dtype: float64"
            ]
          },
          "metadata": {},
          "execution_count": 9
        }
      ]
    },
    {
      "cell_type": "code",
      "metadata": {
        "colab": {
          "base_uri": "https://localhost:8080/",
          "height": 282
        },
        "id": "fd89db5b",
        "outputId": "93d0770b-6ab7-4412-cb12-c7b7c4d04a3f"
      },
      "source": [
        "# Plotting the df2 dataset, the 'close' column\n",
        "import matplotlib.pyplot as plt\n",
        "plt.plot (df2)"
      ],
      "id": "fd89db5b",
      "execution_count": 10,
      "outputs": [
        {
          "output_type": "execute_result",
          "data": {
            "text/plain": [
              "[<matplotlib.lines.Line2D at 0x7f2df095f890>]"
            ]
          },
          "metadata": {},
          "execution_count": 10
        },
        {
          "output_type": "display_data",
          "data": {
            "image/png": "[encoded data removed]",
            "text/plain": [
              "<Figure size 432x288 with 1 Axes>"
            ]
          },
          "metadata": {
            "needs_background": "light"
          }
        }
      ]
    },
    {
      "cell_type": "code",
      "metadata": {
        "colab": {
          "base_uri": "https://localhost:8080/"
        },
        "id": "107c9c87",
        "outputId": "37ccc43b-1f8a-41dc-8da1-4081a6347bd9"
      },
      "source": [
        "df2"
      ],
      "id": "107c9c87",
      "execution_count": 11,
      "outputs": [
        {
          "output_type": "execute_result",
          "data": {
            "text/plain": [
              "0       113.55\n",
              "1       114.62\n",
              "2       112.71\n",
              "3       112.88\n",
              "4       113.09\n",
              "         ...  \n",
              "1252    149.55\n",
              "1253    148.12\n",
              "1254    149.03\n",
              "1255    148.79\n",
              "1256    146.06\n",
              "Name: close, Length: 1257, dtype: float64"
            ]
          },
          "metadata": {},
          "execution_count": 11
        }
      ]
    },
    {
      "cell_type": "markdown",
      "metadata": {
        "id": "2G7JmZSufox5"
      },
      "source": [
        "#### Data Preprocessing"
      ],
      "id": "2G7JmZSufox5"
    },
    {
      "cell_type": "code",
      "metadata": {
        "id": "ccb96311"
      },
      "source": [
        "# LSTM are sensitive to the scale of the data.\n",
        "# NumPy is used to transform the data into an array.\n",
        "import numpy as np"
      ],
      "id": "ccb96311",
      "execution_count": 12,
      "outputs": []
    },
    {
      "cell_type": "code",
      "metadata": {
        "id": "a143e64b"
      },
      "source": [
        "# We apply the MinMax scaler to format the scale of the data\n",
        "from sklearn.preprocessing import MinMaxScaler\n",
        "scaler = MinMaxScaler (feature_range = (0,1))\n",
        "df2 = scaler.fit_transform (np.array(df2).reshape(-1,1))"
      ],
      "id": "a143e64b",
      "execution_count": 13,
      "outputs": []
    },
    {
      "cell_type": "code",
      "metadata": {
        "colab": {
          "base_uri": "https://localhost:8080/"
        },
        "id": "c49cc3e3",
        "outputId": "278cfbdc-8d3b-46c1-8b6e-f41ec2c8b113"
      },
      "source": [
        "df2.shape"
      ],
      "id": "c49cc3e3",
      "execution_count": 14,
      "outputs": [
        {
          "output_type": "execute_result",
          "data": {
            "text/plain": [
              "(1257, 1)"
            ]
          },
          "metadata": {},
          "execution_count": 14
        }
      ]
    },
    {
      "cell_type": "code",
      "metadata": {
        "colab": {
          "base_uri": "https://localhost:8080/"
        },
        "id": "30e49f31",
        "outputId": "5e500ea9-1feb-40ec-905e-205cdc638c10"
      },
      "source": [
        "df2"
      ],
      "id": "30e49f31",
      "execution_count": 15,
      "outputs": [
        {
          "output_type": "execute_result",
          "data": {
            "text/plain": [
              "array([[0.0195814 ],\n",
              "       [0.02225386],\n",
              "       [0.01748339],\n",
              "       ...,\n",
              "       [0.10819721],\n",
              "       [0.10759778],\n",
              "       [0.10077926]])"
            ]
          },
          "metadata": {},
          "execution_count": 15
        }
      ]
    },
    {
      "cell_type": "code",
      "metadata": {
        "colab": {
          "base_uri": "https://localhost:8080/"
        },
        "id": "625bac21",
        "outputId": "658cbaf7-e5e5-45be-f15c-8d6075866079"
      },
      "source": [
        "# Spliting our data set into training and test data\n",
        "training_size =  int(len(df2) * 0.65)\n",
        "test_size = len(df2) -training_size\n",
        "train_data,test_data = df2 [0:training_size,:],df2 [training_size:len(df2),:1]\n",
        "test_data"
      ],
      "id": "625bac21",
      "execution_count": 16,
      "outputs": [
        {
          "output_type": "execute_result",
          "data": {
            "text/plain": [
              "array([[0.43536141],\n",
              "       [0.43391278],\n",
              "       [0.44530196],\n",
              "       [0.44597632],\n",
              "       [0.46006294],\n",
              "       [0.4597882 ],\n",
              "       [0.46408412],\n",
              "       [0.46940407],\n",
              "       [0.48613817],\n",
              "       [0.4788451 ],\n",
              "       [0.48476447],\n",
              "       [0.48124282],\n",
              "       [0.49323143],\n",
              "       [0.50931615],\n",
              "       [0.51106449],\n",
              "       [0.52762376],\n",
              "       [0.51693391],\n",
              "       [0.51358709],\n",
              "       [0.52332784],\n",
              "       [0.53204456],\n",
              "       [0.52664968],\n",
              "       [0.529472  ],\n",
              "       [0.53329337],\n",
              "       [0.53099555],\n",
              "       [0.50761776],\n",
              "       [0.52944703],\n",
              "       [0.54605625],\n",
              "       [0.54488236],\n",
              "       [0.50901643],\n",
              "       [0.50689345],\n",
              "       [0.53234427],\n",
              "       [0.5388381 ],\n",
              "       [0.54822918],\n",
              "       [0.53529147],\n",
              "       [0.53908787],\n",
              "       [0.53424247],\n",
              "       [0.55319946],\n",
              "       [0.54737999],\n",
              "       [0.5475798 ],\n",
              "       [0.53271892],\n",
              "       [0.54425795],\n",
              "       [0.53596583],\n",
              "       [0.51785803],\n",
              "       [0.48071832],\n",
              "       [0.45549228],\n",
              "       [0.46690644],\n",
              "       [0.41912683],\n",
              "       [0.41872721],\n",
              "       [0.48229182],\n",
              "       [0.45858934],\n",
              "       [0.4921075 ],\n",
              "       [0.4675808 ],\n",
              "       [0.45786503],\n",
              "       [0.40076927],\n",
              "       [0.44864878],\n",
              "       [0.4238973 ],\n",
              "       [0.35596184],\n",
              "       [0.43024127],\n",
              "       [0.34092612],\n",
              "       [0.36752585],\n",
              "       [0.35206554],\n",
              "       [0.34734502],\n",
              "       [0.30853189],\n",
              "       [0.29636845],\n",
              "       [0.35259004],\n",
              "       [0.34919327],\n",
              "       [0.38146261],\n",
              "       [0.354738  ],\n",
              "       [0.37239622],\n",
              "       [0.37109746],\n",
              "       [0.3376792 ],\n",
              "       [0.34771967],\n",
              "       [0.33892802],\n",
              "       [0.39152805],\n",
              "       [0.38393526],\n",
              "       [0.40051951],\n",
              "       [0.40531495],\n",
              "       [0.41845247],\n",
              "       [0.45291973],\n",
              "       [0.44637594],\n",
              "       [0.45202058],\n",
              "       [0.44230481],\n",
              "       [0.42764374],\n",
              "       [0.40626405],\n",
              "       [0.42557071],\n",
              "       [0.42289825],\n",
              "       [0.44272941],\n",
              "       [0.44322893],\n",
              "       [0.43176482],\n",
              "       [0.45461811],\n",
              "       [0.46977871],\n",
              "       [0.45796493],\n",
              "       [0.46818023],\n",
              "       [0.47916979],\n",
              "       [0.4868375 ],\n",
              "       [0.49460513],\n",
              "       [0.51056496],\n",
              "       [0.52275338],\n",
              "       [0.51376193],\n",
              "       [0.50437085],\n",
              "       [0.50909136],\n",
              "       [0.50452071],\n",
              "       [0.5226285 ],\n",
              "       [0.51808282],\n",
              "       [0.53329337],\n",
              "       [0.52734902],\n",
              "       [0.53244418],\n",
              "       [0.5270493 ],\n",
              "       [0.53049603],\n",
              "       [0.5308457 ],\n",
              "       [0.53007143],\n",
              "       [0.53983715],\n",
              "       [0.54355862],\n",
              "       [0.5480044 ],\n",
              "       [0.54101104],\n",
              "       [0.56393926],\n",
              "       [0.56883461],\n",
              "       [0.59513462],\n",
              "       [0.61723862],\n",
              "       [0.57492882],\n",
              "       [0.58217194],\n",
              "       [0.59263699],\n",
              "       [0.61534043],\n",
              "       [0.61411659],\n",
              "       [0.61446626],\n",
              "       [0.60944603],\n",
              "       [0.63229932],\n",
              "       [0.65143114],\n",
              "       [0.63527149],\n",
              "       [0.64721015],\n",
              "       [0.61921175],\n",
              "       [0.63956741],\n",
              "       [0.64711025],\n",
              "       [0.64538688],\n",
              "       [0.64538688],\n",
              "       [0.66971377],\n",
              "       [0.66681652],\n",
              "       [0.68849593],\n",
              "       [0.69259204],\n",
              "       [0.69426545],\n",
              "       [0.68984465],\n",
              "       [0.70562965],\n",
              "       [0.71229832],\n",
              "       [0.70028473],\n",
              "       [0.69833658],\n",
              "       [0.71861731],\n",
              "       [0.7050552 ],\n",
              "       [0.70777761],\n",
              "       [0.66354463],\n",
              "       [0.66124682],\n",
              "       [0.68317598],\n",
              "       [0.66761577],\n",
              "       [0.6854738 ],\n",
              "       [0.69696289],\n",
              "       [0.79756731],\n",
              "       [0.8243169 ],\n",
              "       [0.83158499],\n",
              "       [0.83555622],\n",
              "       [0.87391978],\n",
              "       [0.84604626],\n",
              "       [0.86218093],\n",
              "       [0.82868775],\n",
              "       [0.86500325],\n",
              "       [0.88498426],\n",
              "       [0.88396024],\n",
              "       [0.88096309],\n",
              "       [0.89050402],\n",
              "       [0.89195264],\n",
              "       [0.91760328],\n",
              "       [0.97849543],\n",
              "       [0.99335631],\n",
              "       [0.98304111],\n",
              "       [1.        ],\n",
              "       [0.98488936],\n",
              "       [0.98286628],\n",
              "       [0.05826964],\n",
              "       [0.07110745],\n",
              "       [0.06416404],\n",
              "       [0.03788901],\n",
              "       [0.03808882],\n",
              "       [0.01775813],\n",
              "       [0.02899745],\n",
              "       [0.01943154],\n",
              "       [0.01571008],\n",
              "       [0.02408961],\n",
              "       [0.02455168],\n",
              "       [0.01603477],\n",
              "       [0.01156401],\n",
              "       [0.00282232],\n",
              "       [0.01091463],\n",
              "       [0.01523553],\n",
              "       [0.00352165],\n",
              "       [0.00626904],\n",
              "       [0.01640941],\n",
              "       [0.02310305],\n",
              "       [0.02093012],\n",
              "       [0.02522604],\n",
              "       [0.02767371],\n",
              "       [0.01825766],\n",
              "       [0.0269494 ],\n",
              "       [0.01860732],\n",
              "       [0.02340277],\n",
              "       [0.02312803],\n",
              "       [0.02812328],\n",
              "       [0.04668065],\n",
              "       [0.03843848],\n",
              "       [0.03866327],\n",
              "       [0.03746441],\n",
              "       [0.03324342],\n",
              "       [0.02565063],\n",
              "       [0.029472  ],\n",
              "       [0.02787352],\n",
              "       [0.02507618],\n",
              "       [0.02330286],\n",
              "       [0.02332784],\n",
              "       [0.02719916],\n",
              "       [0.01371197],\n",
              "       [0.0240022 ],\n",
              "       [0.00786753],\n",
              "       [0.00764274],\n",
              "       [0.01181378],\n",
              "       [0.02307808],\n",
              "       [0.0332684 ],\n",
              "       [0.0324192 ],\n",
              "       [0.02649983],\n",
              "       [0.02562566],\n",
              "       [0.0344173 ],\n",
              "       [0.03371797],\n",
              "       [0.03384285],\n",
              "       [0.03644038],\n",
              "       [0.03416754],\n",
              "       [0.03077077],\n",
              "       [0.03229432],\n",
              "       [0.0290474 ],\n",
              "       [0.02033069],\n",
              "       [0.02362755],\n",
              "       [0.02577551],\n",
              "       [0.02717418],\n",
              "       [0.03331835],\n",
              "       [0.04248464],\n",
              "       [0.04338379],\n",
              "       [0.04303412],\n",
              "       [0.04131075],\n",
              "       [0.0450572 ],\n",
              "       [0.0466307 ],\n",
              "       [0.04013687],\n",
              "       [0.04378341],\n",
              "       [0.04171038],\n",
              "       [0.04013687],\n",
              "       [0.0553724 ],\n",
              "       [0.05519756],\n",
              "       [0.05742045],\n",
              "       [0.0523128 ],\n",
              "       [0.05624657],\n",
              "       [0.06536291],\n",
              "       [0.06306509],\n",
              "       [0.06558769],\n",
              "       [0.07737649],\n",
              "       [0.07283081],\n",
              "       [0.06995854],\n",
              "       [0.06738598],\n",
              "       [0.05919377],\n",
              "       [0.06318997],\n",
              "       [0.05217543],\n",
              "       [0.06296518],\n",
              "       [0.0657875 ],\n",
              "       [0.05811979],\n",
              "       [0.05767021],\n",
              "       [0.06289025],\n",
              "       [0.05794495],\n",
              "       [0.05352415],\n",
              "       [0.05524751],\n",
              "       [0.06573755],\n",
              "       [0.07782607],\n",
              "       [0.08332085],\n",
              "       [0.09293671],\n",
              "       [0.09353614],\n",
              "       [0.09078875],\n",
              "       [0.07837554],\n",
              "       [0.06556272],\n",
              "       [0.07100754],\n",
              "       [0.07313053],\n",
              "       [0.07050802],\n",
              "       [0.07912483],\n",
              "       [0.07755133],\n",
              "       [0.07792597],\n",
              "       [0.07567811],\n",
              "       [0.07412958],\n",
              "       [0.07348019],\n",
              "       [0.07407962],\n",
              "       [0.0686348 ],\n",
              "       [0.06276537],\n",
              "       [0.05994305],\n",
              "       [0.06034267],\n",
              "       [0.05067686],\n",
              "       [0.05032719],\n",
              "       [0.0490534 ],\n",
              "       [0.03816374],\n",
              "       [0.0388381 ],\n",
              "       [0.05514761],\n",
              "       [0.04847895],\n",
              "       [0.04083621],\n",
              "       [0.03601579],\n",
              "       [0.03923772],\n",
              "       [0.02659973],\n",
              "       [0.03840102],\n",
              "       [0.03564114],\n",
              "       [0.04058644],\n",
              "       [0.03826365],\n",
              "       [0.04565663],\n",
              "       [0.04960288],\n",
              "       [0.0475798 ],\n",
              "       [0.03701484],\n",
              "       [0.03566612],\n",
              "       [0.04415805],\n",
              "       [0.04203507],\n",
              "       [0.03591588],\n",
              "       [0.03716469],\n",
              "       [0.03871322],\n",
              "       [0.0391628 ],\n",
              "       [0.03544133],\n",
              "       [0.04106099],\n",
              "       [0.04318398],\n",
              "       [0.05042709],\n",
              "       [0.05120136],\n",
              "       [0.05542235],\n",
              "       [0.06156651],\n",
              "       [0.06814776],\n",
              "       [0.06376442],\n",
              "       [0.07173185],\n",
              "       [0.06573755],\n",
              "       [0.07190669],\n",
              "       [0.0710575 ],\n",
              "       [0.07275588],\n",
              "       [0.06843499],\n",
              "       [0.06940906],\n",
              "       [0.06551276],\n",
              "       [0.07145712],\n",
              "       [0.07245617],\n",
              "       [0.07163195],\n",
              "       [0.06960887],\n",
              "       [0.06935911],\n",
              "       [0.0643139 ],\n",
              "       [0.06701134],\n",
              "       [0.05529747],\n",
              "       [0.05592187],\n",
              "       [0.06001798],\n",
              "       [0.06119187],\n",
              "       [0.05279984],\n",
              "       [0.05045207],\n",
              "       [0.04260952],\n",
              "       [0.0481043 ],\n",
              "       [0.05429842],\n",
              "       [0.05135122],\n",
              "       [0.04780459],\n",
              "       [0.04740497],\n",
              "       [0.05394875],\n",
              "       [0.04925321],\n",
              "       [0.05342425],\n",
              "       [0.05292472],\n",
              "       [0.05279984],\n",
              "       [0.04887857],\n",
              "       [0.04720516],\n",
              "       [0.04638094],\n",
              "       [0.04832909],\n",
              "       [0.04453269],\n",
              "       [0.05040212],\n",
              "       [0.05042709],\n",
              "       [0.0525251 ],\n",
              "       [0.05349918],\n",
              "       [0.0509516 ],\n",
              "       [0.05404865],\n",
              "       [0.06186623],\n",
              "       [0.05976822],\n",
              "       [0.06104201],\n",
              "       [0.06513812],\n",
              "       [0.06181627],\n",
              "       [0.06641191],\n",
              "       [0.07060792],\n",
              "       [0.06990859],\n",
              "       [0.06918427],\n",
              "       [0.06843499],\n",
              "       [0.07260602],\n",
              "       [0.07647735],\n",
              "       [0.07805085],\n",
              "       [0.07882512],\n",
              "       [0.08554373],\n",
              "       [0.09068885],\n",
              "       [0.0970578 ],\n",
              "       [0.09373595],\n",
              "       [0.09840651],\n",
              "       [0.09688296],\n",
              "       [0.09973026],\n",
              "       [0.10849693],\n",
              "       [0.10682352],\n",
              "       [0.10160348],\n",
              "       [0.09176283],\n",
              "       [0.10100405],\n",
              "       [0.09913083],\n",
              "       [0.1026275 ],\n",
              "       [0.10702333],\n",
              "       [0.10809731],\n",
              "       [0.10255258],\n",
              "       [0.09808182],\n",
              "       [0.09973026],\n",
              "       [0.10027973],\n",
              "       [0.09943054],\n",
              "       [0.10402618],\n",
              "       [0.10300215],\n",
              "       [0.10327689],\n",
              "       [0.10097907],\n",
              "       [0.10085419],\n",
              "       [0.09963035],\n",
              "       [0.10027973],\n",
              "       [0.10784754],\n",
              "       [0.10837205],\n",
              "       [0.11341725],\n",
              "       [0.11109446],\n",
              "       [0.10152855],\n",
              "       [0.10237774],\n",
              "       [0.10609921],\n",
              "       [0.1098956 ],\n",
              "       [0.10967081],\n",
              "       [0.1065238 ],\n",
              "       [0.10447575],\n",
              "       [0.10712323],\n",
              "       [0.11841251],\n",
              "       [0.11519057],\n",
              "       [0.11688896],\n",
              "       [0.11973625],\n",
              "       [0.12135971],\n",
              "       [0.12732904],\n",
              "       [0.12338279],\n",
              "       [0.12078525],\n",
              "       [0.10804736],\n",
              "       [0.10949598],\n",
              "       [0.10592437],\n",
              "       [0.10819721],\n",
              "       [0.10759778],\n",
              "       [0.10077926]])"
            ]
          },
          "metadata": {},
          "execution_count": 16
        }
      ]
    },
    {
      "cell_type": "code",
      "metadata": {
        "colab": {
          "base_uri": "https://localhost:8080/"
        },
        "id": "yz0ANdOuhJ7C",
        "outputId": "59fa0a36-d3aa-414c-bc00-76b921d15032"
      },
      "source": [
        "training_size,test_size"
      ],
      "id": "yz0ANdOuhJ7C",
      "execution_count": 17,
      "outputs": [
        {
          "output_type": "execute_result",
          "data": {
            "text/plain": [
              "(817, 440)"
            ]
          },
          "metadata": {},
          "execution_count": 17
        }
      ]
    },
    {
      "cell_type": "code",
      "metadata": {
        "id": "5108d6c7"
      },
      "source": [
        "# Converting our array values into a Matrix\n",
        "def create_dataset (dataset, time_step = 1):\n",
        "    data_X,data_y = [],[]\n",
        "    for i in range (len (dataset)-time_step -1):\n",
        "        a = dataset [i:(i + time_step),0]\n",
        "        data_X.append(a)\n",
        "        data_y.append (dataset [i + time_step,0])\n",
        "    return np.array(data_X),np.array(data_y)"
      ],
      "id": "5108d6c7",
      "execution_count": 18,
      "outputs": []
    },
    {
      "cell_type": "code",
      "metadata": {
        "id": "4f19cdc2"
      },
      "source": [
        "# Reshaping the data in formats of timesteps\n",
        "# reshaping into X=t, t+1, t+3 and Y=t+4\n",
        "time_step = 100\n",
        "X_train, y_train = create_dataset (train_data,time_step)\n",
        "X_test,y_test = create_dataset (test_data,time_step )"
      ],
      "id": "4f19cdc2",
      "execution_count": 19,
      "outputs": []
    },
    {
      "cell_type": "code",
      "metadata": {
        "colab": {
          "base_uri": "https://localhost:8080/"
        },
        "id": "727ee036",
        "outputId": "40f1b088-bd15-4836-a225-3a98fc7a1ef5"
      },
      "source": [
        "print(X_train.shape), print(y_train.shape)"
      ],
      "id": "727ee036",
      "execution_count": 20,
      "outputs": [
        {
          "output_type": "stream",
          "name": "stdout",
          "text": [
            "(716, 100)\n",
            "(716,)\n"
          ]
        },
        {
          "output_type": "execute_result",
          "data": {
            "text/plain": [
              "(None, None)"
            ]
          },
          "metadata": {},
          "execution_count": 20
        }
      ]
    },
    {
      "cell_type": "code",
      "metadata": {
        "colab": {
          "base_uri": "https://localhost:8080/"
        },
        "id": "abqpik1Rjm3H",
        "outputId": "119f60a9-190f-495b-9588-bf48b4f92b20"
      },
      "source": [
        "print(X_test.shape), print(y_test.shape)"
      ],
      "id": "abqpik1Rjm3H",
      "execution_count": 21,
      "outputs": [
        {
          "output_type": "stream",
          "name": "stdout",
          "text": [
            "(339, 100)\n",
            "(339,)\n"
          ]
        },
        {
          "output_type": "execute_result",
          "data": {
            "text/plain": [
              "(None, None)"
            ]
          },
          "metadata": {},
          "execution_count": 21
        }
      ]
    },
    {
      "cell_type": "code",
      "metadata": {
        "id": "c0fac472"
      },
      "source": [
        "# Reshaping the input to be in 3D [samples, timestep, features] as required in the LSTM\n",
        "X_train = X_train.reshape (X_train.shape[0],X_train.shape[1],1)\n",
        "X_test = X_test.reshape (X_test.shape[0],X_test.shape[1],1)"
      ],
      "id": "c0fac472",
      "execution_count": 22,
      "outputs": []
    },
    {
      "cell_type": "markdown",
      "metadata": {
        "id": "78P9BePck3GS"
      },
      "source": [
        "## Creating the Stacked LSTM model\n",
        "\n",
        "\n",
        "```\n",
        "# This is formatted as code\n",
        "```\n",
        "\n"
      ],
      "id": "78P9BePck3GS"
    },
    {
      "cell_type": "code",
      "metadata": {
        "id": "51dad41a"
      },
      "source": [
        "# The LSTM uses sequential layers for the models\n",
        "from tensorflow.keras.models import Sequential\n",
        "from tensorflow.keras.layers import Dense\n",
        "from tensorflow.keras.layers import LSTM"
      ],
      "id": "51dad41a",
      "execution_count": 23,
      "outputs": []
    },
    {
      "cell_type": "code",
      "metadata": {
        "id": "8bde52a3"
      },
      "source": [
        "# stacking the layers\n",
        "model = Sequential ()\n",
        "model.add (LSTM(50, return_sequences = True,input_shape = (100,1)))\n",
        "model.add (LSTM(50, return_sequences = True))\n",
        "model.add (LSTM(50))\n",
        "model.add (Dense (1))\n",
        "model.compile (loss='mean_squared_error',optimizer = 'adam')\n"
      ],
      "id": "8bde52a3",
      "execution_count": 24,
      "outputs": []
    },
    {
      "cell_type": "code",
      "metadata": {
        "colab": {
          "base_uri": "https://localhost:8080/"
        },
        "id": "8258816e",
        "outputId": "2044070d-4767-4585-9706-f1cd90c198fe"
      },
      "source": [
        "model.summary ()"
      ],
      "id": "8258816e",
      "execution_count": 25,
      "outputs": [
        {
          "output_type": "stream",
          "name": "stdout",
          "text": [
            "Model: \"sequential\"\n",
            "_________________________________________________________________\n",
            "Layer (type)                 Output Shape              Param #   \n",
            "=================================================================\n",
            "lstm (LSTM)                  (None, 100, 50)           10400     \n",
            "_________________________________________________________________\n",
            "lstm_1 (LSTM)                (None, 100, 50)           20200     \n",
            "_________________________________________________________________\n",
            "lstm_2 (LSTM)                (None, 50)                20200     \n",
            "_________________________________________________________________\n",
            "dense (Dense)                (None, 1)                 51        \n",
            "=================================================================\n",
            "Total params: 50,851\n",
            "Trainable params: 50,851\n",
            "Non-trainable params: 0\n",
            "_________________________________________________________________\n"
          ]
        }
      ]
    },
    {
      "cell_type": "code",
      "metadata": {
        "colab": {
          "base_uri": "https://localhost:8080/"
        },
        "id": "em2XDXv9-hyq",
        "outputId": "88efba5b-541b-4204-8953-48295811d677"
      },
      "source": [
        "model.fit(X_train,y_train,validation_data=(X_test,y_test),epochs=100,batch_size=64,verbose=1)"
      ],
      "id": "em2XDXv9-hyq",
      "execution_count": 26,
      "outputs": [
        {
          "output_type": "stream",
          "name": "stdout",
          "text": [
            "Epoch 1/100\n",
            "12/12 [==============================] - 8s 300ms/step - loss: 0.0108 - val_loss: 0.0312\n",
            "Epoch 2/100\n",
            "12/12 [==============================] - 2s 187ms/step - loss: 0.0024 - val_loss: 0.0233\n",
            "Epoch 3/100\n",
            "12/12 [==============================] - 2s 189ms/step - loss: 0.0012 - val_loss: 0.0202\n",
            "Epoch 4/100\n",
            "12/12 [==============================] - 2s 187ms/step - loss: 6.1653e-04 - val_loss: 0.0196\n",
            "Epoch 5/100\n",
            "12/12 [==============================] - 2s 186ms/step - loss: 4.6891e-04 - val_loss: 0.0222\n",
            "Epoch 6/100\n",
            "12/12 [==============================] - 2s 186ms/step - loss: 4.5395e-04 - val_loss: 0.0217\n",
            "Epoch 7/100\n",
            "12/12 [==============================] - 2s 191ms/step - loss: 4.2836e-04 - val_loss: 0.0203\n",
            "Epoch 8/100\n",
            "12/12 [==============================] - 2s 192ms/step - loss: 4.1859e-04 - val_loss: 0.0201\n",
            "Epoch 9/100\n",
            "12/12 [==============================] - 2s 188ms/step - loss: 4.1966e-04 - val_loss: 0.0206\n",
            "Epoch 10/100\n",
            "12/12 [==============================] - 2s 189ms/step - loss: 3.7894e-04 - val_loss: 0.0194\n",
            "Epoch 11/100\n",
            "12/12 [==============================] - 2s 191ms/step - loss: 3.5939e-04 - val_loss: 0.0184\n",
            "Epoch 12/100\n",
            "12/12 [==============================] - 2s 188ms/step - loss: 3.5373e-04 - val_loss: 0.0182\n",
            "Epoch 13/100\n",
            "12/12 [==============================] - 2s 186ms/step - loss: 3.3579e-04 - val_loss: 0.0171\n",
            "Epoch 14/100\n",
            "12/12 [==============================] - 2s 185ms/step - loss: 3.5924e-04 - val_loss: 0.0194\n",
            "Epoch 15/100\n",
            "12/12 [==============================] - 2s 190ms/step - loss: 3.3057e-04 - val_loss: 0.0187\n",
            "Epoch 16/100\n",
            "12/12 [==============================] - 2s 185ms/step - loss: 2.9527e-04 - val_loss: 0.0165\n",
            "Epoch 17/100\n",
            "12/12 [==============================] - 2s 185ms/step - loss: 2.9268e-04 - val_loss: 0.0186\n",
            "Epoch 18/100\n",
            "12/12 [==============================] - 2s 186ms/step - loss: 2.9821e-04 - val_loss: 0.0159\n",
            "Epoch 19/100\n",
            "12/12 [==============================] - 2s 186ms/step - loss: 2.7511e-04 - val_loss: 0.0157\n",
            "Epoch 20/100\n",
            "12/12 [==============================] - 2s 188ms/step - loss: 2.5995e-04 - val_loss: 0.0172\n",
            "Epoch 21/100\n",
            "12/12 [==============================] - 2s 188ms/step - loss: 2.5209e-04 - val_loss: 0.0152\n",
            "Epoch 22/100\n",
            "12/12 [==============================] - 2s 188ms/step - loss: 2.7788e-04 - val_loss: 0.0141\n",
            "Epoch 23/100\n",
            "12/12 [==============================] - 2s 188ms/step - loss: 3.0810e-04 - val_loss: 0.0190\n",
            "Epoch 24/100\n",
            "12/12 [==============================] - 2s 185ms/step - loss: 3.3148e-04 - val_loss: 0.0152\n",
            "Epoch 25/100\n",
            "12/12 [==============================] - 2s 186ms/step - loss: 2.4446e-04 - val_loss: 0.0144\n",
            "Epoch 26/100\n",
            "12/12 [==============================] - 2s 188ms/step - loss: 2.5796e-04 - val_loss: 0.0153\n",
            "Epoch 27/100\n",
            "12/12 [==============================] - 2s 187ms/step - loss: 2.3698e-04 - val_loss: 0.0150\n",
            "Epoch 28/100\n",
            "12/12 [==============================] - 2s 187ms/step - loss: 2.2566e-04 - val_loss: 0.0140\n",
            "Epoch 29/100\n",
            "12/12 [==============================] - 2s 188ms/step - loss: 2.2146e-04 - val_loss: 0.0139\n",
            "Epoch 30/100\n",
            "12/12 [==============================] - 2s 189ms/step - loss: 2.1950e-04 - val_loss: 0.0130\n",
            "Epoch 31/100\n",
            "12/12 [==============================] - 2s 187ms/step - loss: 2.1366e-04 - val_loss: 0.0131\n",
            "Epoch 32/100\n",
            "12/12 [==============================] - 2s 184ms/step - loss: 2.2395e-04 - val_loss: 0.0133\n",
            "Epoch 33/100\n",
            "12/12 [==============================] - 2s 189ms/step - loss: 2.1641e-04 - val_loss: 0.0140\n",
            "Epoch 34/100\n",
            "12/12 [==============================] - 2s 188ms/step - loss: 2.3203e-04 - val_loss: 0.0144\n",
            "Epoch 35/100\n",
            "12/12 [==============================] - 2s 187ms/step - loss: 2.1460e-04 - val_loss: 0.0114\n",
            "Epoch 36/100\n",
            "12/12 [==============================] - 2s 192ms/step - loss: 2.1960e-04 - val_loss: 0.0122\n",
            "Epoch 37/100\n",
            "12/12 [==============================] - 2s 195ms/step - loss: 1.9813e-04 - val_loss: 0.0113\n",
            "Epoch 38/100\n",
            "12/12 [==============================] - 2s 188ms/step - loss: 2.1147e-04 - val_loss: 0.0128\n",
            "Epoch 39/100\n",
            "12/12 [==============================] - 2s 190ms/step - loss: 2.2551e-04 - val_loss: 0.0127\n",
            "Epoch 40/100\n",
            "12/12 [==============================] - 2s 194ms/step - loss: 2.0670e-04 - val_loss: 0.0107\n",
            "Epoch 41/100\n",
            "12/12 [==============================] - 2s 194ms/step - loss: 2.2210e-04 - val_loss: 0.0102\n",
            "Epoch 42/100\n",
            "12/12 [==============================] - 2s 187ms/step - loss: 2.7022e-04 - val_loss: 0.0119\n",
            "Epoch 43/100\n",
            "12/12 [==============================] - 2s 198ms/step - loss: 2.5714e-04 - val_loss: 0.0098\n",
            "Epoch 44/100\n",
            "12/12 [==============================] - 2s 200ms/step - loss: 1.9858e-04 - val_loss: 0.0108\n",
            "Epoch 45/100\n",
            "12/12 [==============================] - 2s 194ms/step - loss: 1.7623e-04 - val_loss: 0.0107\n",
            "Epoch 46/100\n",
            "12/12 [==============================] - 2s 187ms/step - loss: 1.7326e-04 - val_loss: 0.0113\n",
            "Epoch 47/100\n",
            "12/12 [==============================] - 2s 186ms/step - loss: 1.7314e-04 - val_loss: 0.0099\n",
            "Epoch 48/100\n",
            "12/12 [==============================] - 2s 191ms/step - loss: 1.7943e-04 - val_loss: 0.0102\n",
            "Epoch 49/100\n",
            "12/12 [==============================] - 2s 189ms/step - loss: 1.8167e-04 - val_loss: 0.0096\n",
            "Epoch 50/100\n",
            "12/12 [==============================] - 2s 188ms/step - loss: 1.7684e-04 - val_loss: 0.0109\n",
            "Epoch 51/100\n",
            "12/12 [==============================] - 2s 182ms/step - loss: 1.7536e-04 - val_loss: 0.0102\n",
            "Epoch 52/100\n",
            "12/12 [==============================] - 2s 188ms/step - loss: 1.5571e-04 - val_loss: 0.0092\n",
            "Epoch 53/100\n",
            "12/12 [==============================] - 2s 187ms/step - loss: 1.5346e-04 - val_loss: 0.0108\n",
            "Epoch 54/100\n",
            "12/12 [==============================] - 2s 188ms/step - loss: 1.6514e-04 - val_loss: 0.0093\n",
            "Epoch 55/100\n",
            "12/12 [==============================] - 2s 186ms/step - loss: 1.5913e-04 - val_loss: 0.0098\n",
            "Epoch 56/100\n",
            "12/12 [==============================] - 2s 191ms/step - loss: 1.7048e-04 - val_loss: 0.0093\n",
            "Epoch 57/100\n",
            "12/12 [==============================] - 2s 191ms/step - loss: 1.5718e-04 - val_loss: 0.0083\n",
            "Epoch 58/100\n",
            "12/12 [==============================] - 2s 186ms/step - loss: 1.4715e-04 - val_loss: 0.0092\n",
            "Epoch 59/100\n",
            "12/12 [==============================] - 2s 188ms/step - loss: 1.4360e-04 - val_loss: 0.0084\n",
            "Epoch 60/100\n",
            "12/12 [==============================] - 2s 188ms/step - loss: 1.4251e-04 - val_loss: 0.0086\n",
            "Epoch 61/100\n",
            "12/12 [==============================] - 2s 190ms/step - loss: 1.3855e-04 - val_loss: 0.0081\n",
            "Epoch 62/100\n",
            "12/12 [==============================] - 2s 191ms/step - loss: 1.3681e-04 - val_loss: 0.0076\n",
            "Epoch 63/100\n",
            "12/12 [==============================] - 2s 185ms/step - loss: 1.6680e-04 - val_loss: 0.0079\n",
            "Epoch 64/100\n",
            "12/12 [==============================] - 2s 184ms/step - loss: 1.3666e-04 - val_loss: 0.0076\n",
            "Epoch 65/100\n",
            "12/12 [==============================] - 2s 186ms/step - loss: 1.3089e-04 - val_loss: 0.0104\n",
            "Epoch 66/100\n",
            "12/12 [==============================] - 2s 189ms/step - loss: 1.9309e-04 - val_loss: 0.0063\n",
            "Epoch 67/100\n",
            "12/12 [==============================] - 2s 189ms/step - loss: 1.5483e-04 - val_loss: 0.0065\n",
            "Epoch 68/100\n",
            "12/12 [==============================] - 2s 191ms/step - loss: 1.6914e-04 - val_loss: 0.0070\n",
            "Epoch 69/100\n",
            "12/12 [==============================] - 2s 182ms/step - loss: 1.2037e-04 - val_loss: 0.0071\n",
            "Epoch 70/100\n",
            "12/12 [==============================] - 2s 185ms/step - loss: 1.1999e-04 - val_loss: 0.0071\n",
            "Epoch 71/100\n",
            "12/12 [==============================] - 2s 184ms/step - loss: 1.1731e-04 - val_loss: 0.0071\n",
            "Epoch 72/100\n",
            "12/12 [==============================] - 2s 188ms/step - loss: 1.1475e-04 - val_loss: 0.0064\n",
            "Epoch 73/100\n",
            "12/12 [==============================] - 2s 186ms/step - loss: 1.1338e-04 - val_loss: 0.0070\n",
            "Epoch 74/100\n",
            "12/12 [==============================] - 2s 183ms/step - loss: 1.2311e-04 - val_loss: 0.0065\n",
            "Epoch 75/100\n",
            "12/12 [==============================] - 2s 183ms/step - loss: 1.2266e-04 - val_loss: 0.0064\n",
            "Epoch 76/100\n",
            "12/12 [==============================] - 2s 189ms/step - loss: 1.0955e-04 - val_loss: 0.0065\n",
            "Epoch 77/100\n",
            "12/12 [==============================] - 2s 187ms/step - loss: 1.1884e-04 - val_loss: 0.0067\n",
            "Epoch 78/100\n",
            "12/12 [==============================] - 2s 184ms/step - loss: 1.1957e-04 - val_loss: 0.0056\n",
            "Epoch 79/100\n",
            "12/12 [==============================] - 2s 188ms/step - loss: 1.1992e-04 - val_loss: 0.0061\n",
            "Epoch 80/100\n",
            "12/12 [==============================] - 2s 186ms/step - loss: 1.0721e-04 - val_loss: 0.0060\n",
            "Epoch 81/100\n",
            "12/12 [==============================] - 2s 183ms/step - loss: 1.0584e-04 - val_loss: 0.0058\n",
            "Epoch 82/100\n",
            "12/12 [==============================] - 2s 186ms/step - loss: 1.0610e-04 - val_loss: 0.0059\n",
            "Epoch 83/100\n",
            "12/12 [==============================] - 2s 186ms/step - loss: 1.1453e-04 - val_loss: 0.0053\n",
            "Epoch 84/100\n",
            "12/12 [==============================] - 2s 187ms/step - loss: 1.3585e-04 - val_loss: 0.0051\n",
            "Epoch 85/100\n",
            "12/12 [==============================] - 2s 181ms/step - loss: 1.1480e-04 - val_loss: 0.0052\n",
            "Epoch 86/100\n",
            "12/12 [==============================] - 2s 189ms/step - loss: 1.0522e-04 - val_loss: 0.0051\n",
            "Epoch 87/100\n",
            "12/12 [==============================] - 2s 189ms/step - loss: 1.0356e-04 - val_loss: 0.0050\n",
            "Epoch 88/100\n",
            "12/12 [==============================] - 2s 187ms/step - loss: 1.0055e-04 - val_loss: 0.0049\n",
            "Epoch 89/100\n",
            "12/12 [==============================] - 2s 189ms/step - loss: 1.0270e-04 - val_loss: 0.0057\n",
            "Epoch 90/100\n",
            "12/12 [==============================] - 2s 190ms/step - loss: 1.0236e-04 - val_loss: 0.0050\n",
            "Epoch 91/100\n",
            "12/12 [==============================] - 2s 190ms/step - loss: 1.0162e-04 - val_loss: 0.0049\n",
            "Epoch 92/100\n",
            "12/12 [==============================] - 2s 187ms/step - loss: 1.0306e-04 - val_loss: 0.0057\n",
            "Epoch 93/100\n",
            "12/12 [==============================] - 2s 193ms/step - loss: 1.2474e-04 - val_loss: 0.0046\n",
            "Epoch 94/100\n",
            "12/12 [==============================] - 2s 186ms/step - loss: 1.2455e-04 - val_loss: 0.0044\n",
            "Epoch 95/100\n",
            "12/12 [==============================] - 2s 188ms/step - loss: 1.4653e-04 - val_loss: 0.0043\n",
            "Epoch 96/100\n",
            "12/12 [==============================] - 2s 189ms/step - loss: 1.4531e-04 - val_loss: 0.0047\n",
            "Epoch 97/100\n",
            "12/12 [==============================] - 2s 192ms/step - loss: 1.0485e-04 - val_loss: 0.0048\n",
            "Epoch 98/100\n",
            "12/12 [==============================] - 2s 191ms/step - loss: 9.7474e-05 - val_loss: 0.0045\n",
            "Epoch 99/100\n",
            "12/12 [==============================] - 2s 188ms/step - loss: 9.9834e-05 - val_loss: 0.0048\n",
            "Epoch 100/100\n",
            "12/12 [==============================] - 2s 187ms/step - loss: 9.3412e-05 - val_loss: 0.0046\n"
          ]
        },
        {
          "output_type": "execute_result",
          "data": {
            "text/plain": [
              "<keras.callbacks.History at 0x7f2d96806850>"
            ]
          },
          "metadata": {},
          "execution_count": 26
        }
      ]
    },
    {
      "cell_type": "code",
      "metadata": {
        "id": "1f_rXoDDAWSF"
      },
      "source": [
        "train_predict =  model.predict (X_train)\n",
        "test_predict =  model.predict (X_test)"
      ],
      "id": "1f_rXoDDAWSF",
      "execution_count": 27,
      "outputs": []
    },
    {
      "cell_type": "code",
      "metadata": {
        "id": "ArkZMUJOAo_K"
      },
      "source": [
        "train_predict = scaler.inverse_transform (train_predict)\n",
        "test_predict = scaler.inverse_transform (test_predict)"
      ],
      "id": "ArkZMUJOAo_K",
      "execution_count": 28,
      "outputs": []
    },
    {
      "cell_type": "code",
      "metadata": {
        "colab": {
          "base_uri": "https://localhost:8080/"
        },
        "id": "3u6GSz6AAziK",
        "outputId": "59aa53fd-cb9c-473a-cae7-6689393cbd27"
      },
      "source": [
        "import math\n",
        "from sklearn.metrics import mean_squared_error\n",
        "math.sqrt (mean_squared_error(y_train,train_predict))\n"
      ],
      "id": "3u6GSz6AAziK",
      "execution_count": 29,
      "outputs": [
        {
          "output_type": "execute_result",
          "data": {
            "text/plain": [
              "185.9480573455371"
            ]
          },
          "metadata": {},
          "execution_count": 29
        }
      ]
    },
    {
      "cell_type": "code",
      "metadata": {
        "colab": {
          "base_uri": "https://localhost:8080/"
        },
        "id": "WAhWT3arBR1f",
        "outputId": "bc8dfa37-8f3d-48e5-91cc-f90257da417e"
      },
      "source": [
        "math.sqrt (mean_squared_error (y_test,test_predict))"
      ],
      "id": "WAhWT3arBR1f",
      "execution_count": 30,
      "outputs": [
        {
          "output_type": "execute_result",
          "data": {
            "text/plain": [
              "219.98116069503595"
            ]
          },
          "metadata": {},
          "execution_count": 30
        }
      ]
    },
    {
      "cell_type": "code",
      "metadata": {
        "colab": {
          "base_uri": "https://localhost:8080/",
          "height": 265
        },
        "id": "TWHiQBFFBnN-",
        "outputId": "c5da8565-2579-4de0-df75-66edac8bb0a7"
      },
      "source": [
        "look_back = 100\n",
        "trainPredictPlot = np.empty_like (df2)\n",
        "trainPredictPlot [:,:] = np.nan\n",
        "trainPredictPlot [look_back:len(train_predict) + (look_back) , :] = train_predict\n",
        "\n",
        "testPredictPlot = np.empty_like (df2)\n",
        "testPredictPlot [:,:] = np.nan\n",
        "testPredictPlot [len(train_predict) + (look_back * 2) + 1:len(df2) -1, :] = test_predict\n",
        "\n",
        "plt.plot (scaler.inverse_transform(df2))\n",
        "plt.plot (trainPredictPlot)\n",
        "plt.plot (testPredictPlot)\n",
        "plt.show ()"
      ],
      "id": "TWHiQBFFBnN-",
      "execution_count": 31,
      "outputs": [
        {
          "output_type": "display_data",
          "data": {
            "image/png": "[encoded data removed]",
            "text/plain": [
              "<Figure size 432x288 with 1 Axes>"
            ]
          },
          "metadata": {
            "needs_background": "light"
          }
        }
      ]
    },
    {
      "cell_type": "code",
      "metadata": {
        "colab": {
          "base_uri": "https://localhost:8080/"
        },
        "id": "_OEqnwYlDxYV",
        "outputId": "24659ad5-d0f8-420e-dc1c-24532556a971"
      },
      "source": [
        "len(test_data)"
      ],
      "id": "_OEqnwYlDxYV",
      "execution_count": 32,
      "outputs": [
        {
          "output_type": "execute_result",
          "data": {
            "text/plain": [
              "440"
            ]
          },
          "metadata": {},
          "execution_count": 32
        }
      ]
    },
    {
      "cell_type": "code",
      "metadata": {
        "id": "qTalodhPFQIC"
      },
      "source": [
        "X_input = test_data[340:].reshape (1,-1)\n"
      ],
      "id": "qTalodhPFQIC",
      "execution_count": 33,
      "outputs": []
    },
    {
      "cell_type": "code",
      "metadata": {
        "colab": {
          "base_uri": "https://localhost:8080/"
        },
        "id": "2mTo9tu8Fd4Q",
        "outputId": "0eac11aa-d422-4922-b13d-dc54b6aa2700"
      },
      "source": [
        "X_input.shape"
      ],
      "id": "2mTo9tu8Fd4Q",
      "execution_count": 34,
      "outputs": [
        {
          "output_type": "execute_result",
          "data": {
            "text/plain": [
              "(1, 100)"
            ]
          },
          "metadata": {},
          "execution_count": 34
        }
      ]
    },
    {
      "cell_type": "code",
      "metadata": {
        "id": "ckAtMhSqFf-e"
      },
      "source": [
        "temp_input = list (X_input)\n",
        "temp_input = temp_input[0].tolist ()\n"
      ],
      "id": "ckAtMhSqFf-e",
      "execution_count": 35,
      "outputs": []
    },
    {
      "cell_type": "code",
      "metadata": {
        "colab": {
          "base_uri": "https://localhost:8080/"
        },
        "id": "wXKG472HF2P_",
        "outputId": "d5e03138-c989-4ea7-af08-e9c7c276eb1c"
      },
      "source": [
        "from numpy import array\n",
        "lst_output = []\n",
        "n_steps = 100\n",
        "i = 0\n",
        "while (i<30):\n",
        "  if(len(temp_input) > 100):\n",
        "    X_input = array (temp_input[1:])\n",
        "    print(\" {} day input {}\".format(i,X_input))\n",
        "    X_input = X_input.reshape (1,-1)\n",
        "    X_input = X_input.reshape ((1,n_steps,1))\n",
        "    yhat = model.predict (X_input,verbose=0)\n",
        "    print(\" {} day input {}\".format(i,yhat))\n",
        "    temp_input.extend(yhat[0].tolist ())\n",
        "    temp_input = temp_input [1:]\n",
        "    lst_output.extend(yhat.tolist ())\n",
        "    i = i + 1\n",
        "  else:\n",
        "    X_input = X_input.reshape (1,n_steps,1)\n",
        "    yhat = model.predict (X_input,verbose=0)\n",
        "    print(yhat[0])\n",
        "    temp_input.extend(yhat[0].tolist ())\n",
        "    print(len(temp_input))\n",
        "    lst_output.extend(yhat.tolist ())\n",
        "    i = i+1\n",
        "  print(lst_output)\n"
      ],
      "id": "wXKG472HF2P_",
      "execution_count": 36,
      "outputs": [
        {
          "output_type": "stream",
          "name": "stdout",
          "text": [
            "[0.10707733]\n",
            "101\n",
            "[[0.10707733035087585]]\n",
            " 1 day input [0.06935911 0.0643139  0.06701134 0.05529747 0.05592187 0.06001798\n",
            " 0.06119187 0.05279984 0.05045207 0.04260952 0.0481043  0.05429842\n",
            " 0.05135122 0.04780459 0.04740497 0.05394875 0.04925321 0.05342425\n",
            " 0.05292472 0.05279984 0.04887857 0.04720516 0.04638094 0.04832909\n",
            " 0.04453269 0.05040212 0.05042709 0.0525251  0.05349918 0.0509516\n",
            " 0.05404865 0.06186623 0.05976822 0.06104201 0.06513812 0.06181627\n",
            " 0.06641191 0.07060792 0.06990859 0.06918427 0.06843499 0.07260602\n",
            " 0.07647735 0.07805085 0.07882512 0.08554373 0.09068885 0.0970578\n",
            " 0.09373595 0.09840651 0.09688296 0.09973026 0.10849693 0.10682352\n",
            " 0.10160348 0.09176283 0.10100405 0.09913083 0.1026275  0.10702333\n",
            " 0.10809731 0.10255258 0.09808182 0.09973026 0.10027973 0.09943054\n",
            " 0.10402618 0.10300215 0.10327689 0.10097907 0.10085419 0.09963035\n",
            " 0.10027973 0.10784754 0.10837205 0.11341725 0.11109446 0.10152855\n",
            " 0.10237774 0.10609921 0.1098956  0.10967081 0.1065238  0.10447575\n",
            " 0.10712323 0.11841251 0.11519057 0.11688896 0.11973625 0.12135971\n",
            " 0.12732904 0.12338279 0.12078525 0.10804736 0.10949598 0.10592437\n",
            " 0.10819721 0.10759778 0.10077926 0.10707733]\n",
            " 1 day input [[0.10688464]]\n",
            "[[0.10707733035087585], [0.10688464343547821]]\n",
            " 2 day input [0.0643139  0.06701134 0.05529747 0.05592187 0.06001798 0.06119187\n",
            " 0.05279984 0.05045207 0.04260952 0.0481043  0.05429842 0.05135122\n",
            " 0.04780459 0.04740497 0.05394875 0.04925321 0.05342425 0.05292472\n",
            " 0.05279984 0.04887857 0.04720516 0.04638094 0.04832909 0.04453269\n",
            " 0.05040212 0.05042709 0.0525251  0.05349918 0.0509516  0.05404865\n",
            " 0.06186623 0.05976822 0.06104201 0.06513812 0.06181627 0.06641191\n",
            " 0.07060792 0.06990859 0.06918427 0.06843499 0.07260602 0.07647735\n",
            " 0.07805085 0.07882512 0.08554373 0.09068885 0.0970578  0.09373595\n",
            " 0.09840651 0.09688296 0.09973026 0.10849693 0.10682352 0.10160348\n",
            " 0.09176283 0.10100405 0.09913083 0.1026275  0.10702333 0.10809731\n",
            " 0.10255258 0.09808182 0.09973026 0.10027973 0.09943054 0.10402618\n",
            " 0.10300215 0.10327689 0.10097907 0.10085419 0.09963035 0.10027973\n",
            " 0.10784754 0.10837205 0.11341725 0.11109446 0.10152855 0.10237774\n",
            " 0.10609921 0.1098956  0.10967081 0.1065238  0.10447575 0.10712323\n",
            " 0.11841251 0.11519057 0.11688896 0.11973625 0.12135971 0.12732904\n",
            " 0.12338279 0.12078525 0.10804736 0.10949598 0.10592437 0.10819721\n",
            " 0.10759778 0.10077926 0.10707733 0.10688464]\n",
            " 2 day input [[0.10759512]]\n",
            "[[0.10707733035087585], [0.10688464343547821], [0.10759511590003967]]\n",
            " 3 day input [0.06701134 0.05529747 0.05592187 0.06001798 0.06119187 0.05279984\n",
            " 0.05045207 0.04260952 0.0481043  0.05429842 0.05135122 0.04780459\n",
            " 0.04740497 0.05394875 0.04925321 0.05342425 0.05292472 0.05279984\n",
            " 0.04887857 0.04720516 0.04638094 0.04832909 0.04453269 0.05040212\n",
            " 0.05042709 0.0525251  0.05349918 0.0509516  0.05404865 0.06186623\n",
            " 0.05976822 0.06104201 0.06513812 0.06181627 0.06641191 0.07060792\n",
            " 0.06990859 0.06918427 0.06843499 0.07260602 0.07647735 0.07805085\n",
            " 0.07882512 0.08554373 0.09068885 0.0970578  0.09373595 0.09840651\n",
            " 0.09688296 0.09973026 0.10849693 0.10682352 0.10160348 0.09176283\n",
            " 0.10100405 0.09913083 0.1026275  0.10702333 0.10809731 0.10255258\n",
            " 0.09808182 0.09973026 0.10027973 0.09943054 0.10402618 0.10300215\n",
            " 0.10327689 0.10097907 0.10085419 0.09963035 0.10027973 0.10784754\n",
            " 0.10837205 0.11341725 0.11109446 0.10152855 0.10237774 0.10609921\n",
            " 0.1098956  0.10967081 0.1065238  0.10447575 0.10712323 0.11841251\n",
            " 0.11519057 0.11688896 0.11973625 0.12135971 0.12732904 0.12338279\n",
            " 0.12078525 0.10804736 0.10949598 0.10592437 0.10819721 0.10759778\n",
            " 0.10077926 0.10707733 0.10688464 0.10759512]\n",
            " 3 day input [[0.10877021]]\n",
            "[[0.10707733035087585], [0.10688464343547821], [0.10759511590003967], [0.1087702065706253]]\n",
            " 4 day input [0.05529747 0.05592187 0.06001798 0.06119187 0.05279984 0.05045207\n",
            " 0.04260952 0.0481043  0.05429842 0.05135122 0.04780459 0.04740497\n",
            " 0.05394875 0.04925321 0.05342425 0.05292472 0.05279984 0.04887857\n",
            " 0.04720516 0.04638094 0.04832909 0.04453269 0.05040212 0.05042709\n",
            " 0.0525251  0.05349918 0.0509516  0.05404865 0.06186623 0.05976822\n",
            " 0.06104201 0.06513812 0.06181627 0.06641191 0.07060792 0.06990859\n",
            " 0.06918427 0.06843499 0.07260602 0.07647735 0.07805085 0.07882512\n",
            " 0.08554373 0.09068885 0.0970578  0.09373595 0.09840651 0.09688296\n",
            " 0.09973026 0.10849693 0.10682352 0.10160348 0.09176283 0.10100405\n",
            " 0.09913083 0.1026275  0.10702333 0.10809731 0.10255258 0.09808182\n",
            " 0.09973026 0.10027973 0.09943054 0.10402618 0.10300215 0.10327689\n",
            " 0.10097907 0.10085419 0.09963035 0.10027973 0.10784754 0.10837205\n",
            " 0.11341725 0.11109446 0.10152855 0.10237774 0.10609921 0.1098956\n",
            " 0.10967081 0.1065238  0.10447575 0.10712323 0.11841251 0.11519057\n",
            " 0.11688896 0.11973625 0.12135971 0.12732904 0.12338279 0.12078525\n",
            " 0.10804736 0.10949598 0.10592437 0.10819721 0.10759778 0.10077926\n",
            " 0.10707733 0.10688464 0.10759512 0.10877021]\n",
            " 4 day input [[0.1101072]]\n",
            "[[0.10707733035087585], [0.10688464343547821], [0.10759511590003967], [0.1087702065706253], [0.11010719835758209]]\n",
            " 5 day input [0.05592187 0.06001798 0.06119187 0.05279984 0.05045207 0.04260952\n",
            " 0.0481043  0.05429842 0.05135122 0.04780459 0.04740497 0.05394875\n",
            " 0.04925321 0.05342425 0.05292472 0.05279984 0.04887857 0.04720516\n",
            " 0.04638094 0.04832909 0.04453269 0.05040212 0.05042709 0.0525251\n",
            " 0.05349918 0.0509516  0.05404865 0.06186623 0.05976822 0.06104201\n",
            " 0.06513812 0.06181627 0.06641191 0.07060792 0.06990859 0.06918427\n",
            " 0.06843499 0.07260602 0.07647735 0.07805085 0.07882512 0.08554373\n",
            " 0.09068885 0.0970578  0.09373595 0.09840651 0.09688296 0.09973026\n",
            " 0.10849693 0.10682352 0.10160348 0.09176283 0.10100405 0.09913083\n",
            " 0.1026275  0.10702333 0.10809731 0.10255258 0.09808182 0.09973026\n",
            " 0.10027973 0.09943054 0.10402618 0.10300215 0.10327689 0.10097907\n",
            " 0.10085419 0.09963035 0.10027973 0.10784754 0.10837205 0.11341725\n",
            " 0.11109446 0.10152855 0.10237774 0.10609921 0.1098956  0.10967081\n",
            " 0.1065238  0.10447575 0.10712323 0.11841251 0.11519057 0.11688896\n",
            " 0.11973625 0.12135971 0.12732904 0.12338279 0.12078525 0.10804736\n",
            " 0.10949598 0.10592437 0.10819721 0.10759778 0.10077926 0.10707733\n",
            " 0.10688464 0.10759512 0.10877021 0.1101072 ]\n",
            " 5 day input [[0.11144206]]\n",
            "[[0.10707733035087585], [0.10688464343547821], [0.10759511590003967], [0.1087702065706253], [0.11010719835758209], [0.11144205927848816]]\n",
            " 6 day input [0.06001798 0.06119187 0.05279984 0.05045207 0.04260952 0.0481043\n",
            " 0.05429842 0.05135122 0.04780459 0.04740497 0.05394875 0.04925321\n",
            " 0.05342425 0.05292472 0.05279984 0.04887857 0.04720516 0.04638094\n",
            " 0.04832909 0.04453269 0.05040212 0.05042709 0.0525251  0.05349918\n",
            " 0.0509516  0.05404865 0.06186623 0.05976822 0.06104201 0.06513812\n",
            " 0.06181627 0.06641191 0.07060792 0.06990859 0.06918427 0.06843499\n",
            " 0.07260602 0.07647735 0.07805085 0.07882512 0.08554373 0.09068885\n",
            " 0.0970578  0.09373595 0.09840651 0.09688296 0.09973026 0.10849693\n",
            " 0.10682352 0.10160348 0.09176283 0.10100405 0.09913083 0.1026275\n",
            " 0.10702333 0.10809731 0.10255258 0.09808182 0.09973026 0.10027973\n",
            " 0.09943054 0.10402618 0.10300215 0.10327689 0.10097907 0.10085419\n",
            " 0.09963035 0.10027973 0.10784754 0.10837205 0.11341725 0.11109446\n",
            " 0.10152855 0.10237774 0.10609921 0.1098956  0.10967081 0.1065238\n",
            " 0.10447575 0.10712323 0.11841251 0.11519057 0.11688896 0.11973625\n",
            " 0.12135971 0.12732904 0.12338279 0.12078525 0.10804736 0.10949598\n",
            " 0.10592437 0.10819721 0.10759778 0.10077926 0.10707733 0.10688464\n",
            " 0.10759512 0.10877021 0.1101072  0.11144206]\n",
            " 6 day input [[0.112694]]\n",
            "[[0.10707733035087585], [0.10688464343547821], [0.10759511590003967], [0.1087702065706253], [0.11010719835758209], [0.11144205927848816], [0.11269399523735046]]\n",
            " 7 day input [0.06119187 0.05279984 0.05045207 0.04260952 0.0481043  0.05429842\n",
            " 0.05135122 0.04780459 0.04740497 0.05394875 0.04925321 0.05342425\n",
            " 0.05292472 0.05279984 0.04887857 0.04720516 0.04638094 0.04832909\n",
            " 0.04453269 0.05040212 0.05042709 0.0525251  0.05349918 0.0509516\n",
            " 0.05404865 0.06186623 0.05976822 0.06104201 0.06513812 0.06181627\n",
            " 0.06641191 0.07060792 0.06990859 0.06918427 0.06843499 0.07260602\n",
            " 0.07647735 0.07805085 0.07882512 0.08554373 0.09068885 0.0970578\n",
            " 0.09373595 0.09840651 0.09688296 0.09973026 0.10849693 0.10682352\n",
            " 0.10160348 0.09176283 0.10100405 0.09913083 0.1026275  0.10702333\n",
            " 0.10809731 0.10255258 0.09808182 0.09973026 0.10027973 0.09943054\n",
            " 0.10402618 0.10300215 0.10327689 0.10097907 0.10085419 0.09963035\n",
            " 0.10027973 0.10784754 0.10837205 0.11341725 0.11109446 0.10152855\n",
            " 0.10237774 0.10609921 0.1098956  0.10967081 0.1065238  0.10447575\n",
            " 0.10712323 0.11841251 0.11519057 0.11688896 0.11973625 0.12135971\n",
            " 0.12732904 0.12338279 0.12078525 0.10804736 0.10949598 0.10592437\n",
            " 0.10819721 0.10759778 0.10077926 0.10707733 0.10688464 0.10759512\n",
            " 0.10877021 0.1101072  0.11144206 0.112694  ]\n",
            " 7 day input [[0.11382426]]\n",
            "[[0.10707733035087585], [0.10688464343547821], [0.10759511590003967], [0.1087702065706253], [0.11010719835758209], [0.11144205927848816], [0.11269399523735046], [0.113824263215065]]\n",
            " 8 day input [0.05279984 0.05045207 0.04260952 0.0481043  0.05429842 0.05135122\n",
            " 0.04780459 0.04740497 0.05394875 0.04925321 0.05342425 0.05292472\n",
            " 0.05279984 0.04887857 0.04720516 0.04638094 0.04832909 0.04453269\n",
            " 0.05040212 0.05042709 0.0525251  0.05349918 0.0509516  0.05404865\n",
            " 0.06186623 0.05976822 0.06104201 0.06513812 0.06181627 0.06641191\n",
            " 0.07060792 0.06990859 0.06918427 0.06843499 0.07260602 0.07647735\n",
            " 0.07805085 0.07882512 0.08554373 0.09068885 0.0970578  0.09373595\n",
            " 0.09840651 0.09688296 0.09973026 0.10849693 0.10682352 0.10160348\n",
            " 0.09176283 0.10100405 0.09913083 0.1026275  0.10702333 0.10809731\n",
            " 0.10255258 0.09808182 0.09973026 0.10027973 0.09943054 0.10402618\n",
            " 0.10300215 0.10327689 0.10097907 0.10085419 0.09963035 0.10027973\n",
            " 0.10784754 0.10837205 0.11341725 0.11109446 0.10152855 0.10237774\n",
            " 0.10609921 0.1098956  0.10967081 0.1065238  0.10447575 0.10712323\n",
            " 0.11841251 0.11519057 0.11688896 0.11973625 0.12135971 0.12732904\n",
            " 0.12338279 0.12078525 0.10804736 0.10949598 0.10592437 0.10819721\n",
            " 0.10759778 0.10077926 0.10707733 0.10688464 0.10759512 0.10877021\n",
            " 0.1101072  0.11144206 0.112694   0.11382426]\n",
            " 8 day input [[0.11481676]]\n",
            "[[0.10707733035087585], [0.10688464343547821], [0.10759511590003967], [0.1087702065706253], [0.11010719835758209], [0.11144205927848816], [0.11269399523735046], [0.113824263215065], [0.11481675505638123]]\n",
            " 9 day input [0.05045207 0.04260952 0.0481043  0.05429842 0.05135122 0.04780459\n",
            " 0.04740497 0.05394875 0.04925321 0.05342425 0.05292472 0.05279984\n",
            " 0.04887857 0.04720516 0.04638094 0.04832909 0.04453269 0.05040212\n",
            " 0.05042709 0.0525251  0.05349918 0.0509516  0.05404865 0.06186623\n",
            " 0.05976822 0.06104201 0.06513812 0.06181627 0.06641191 0.07060792\n",
            " 0.06990859 0.06918427 0.06843499 0.07260602 0.07647735 0.07805085\n",
            " 0.07882512 0.08554373 0.09068885 0.0970578  0.09373595 0.09840651\n",
            " 0.09688296 0.09973026 0.10849693 0.10682352 0.10160348 0.09176283\n",
            " 0.10100405 0.09913083 0.1026275  0.10702333 0.10809731 0.10255258\n",
            " 0.09808182 0.09973026 0.10027973 0.09943054 0.10402618 0.10300215\n",
            " 0.10327689 0.10097907 0.10085419 0.09963035 0.10027973 0.10784754\n",
            " 0.10837205 0.11341725 0.11109446 0.10152855 0.10237774 0.10609921\n",
            " 0.1098956  0.10967081 0.1065238  0.10447575 0.10712323 0.11841251\n",
            " 0.11519057 0.11688896 0.11973625 0.12135971 0.12732904 0.12338279\n",
            " 0.12078525 0.10804736 0.10949598 0.10592437 0.10819721 0.10759778\n",
            " 0.10077926 0.10707733 0.10688464 0.10759512 0.10877021 0.1101072\n",
            " 0.11144206 0.112694   0.11382426 0.11481676]\n",
            " 9 day input [[0.11567026]]\n",
            "[[0.10707733035087585], [0.10688464343547821], [0.10759511590003967], [0.1087702065706253], [0.11010719835758209], [0.11144205927848816], [0.11269399523735046], [0.113824263215065], [0.11481675505638123], [0.11567026376724243]]\n",
            " 10 day input [0.04260952 0.0481043  0.05429842 0.05135122 0.04780459 0.04740497\n",
            " 0.05394875 0.04925321 0.05342425 0.05292472 0.05279984 0.04887857\n",
            " 0.04720516 0.04638094 0.04832909 0.04453269 0.05040212 0.05042709\n",
            " 0.0525251  0.05349918 0.0509516  0.05404865 0.06186623 0.05976822\n",
            " 0.06104201 0.06513812 0.06181627 0.06641191 0.07060792 0.06990859\n",
            " 0.06918427 0.06843499 0.07260602 0.07647735 0.07805085 0.07882512\n",
            " 0.08554373 0.09068885 0.0970578  0.09373595 0.09840651 0.09688296\n",
            " 0.09973026 0.10849693 0.10682352 0.10160348 0.09176283 0.10100405\n",
            " 0.09913083 0.1026275  0.10702333 0.10809731 0.10255258 0.09808182\n",
            " 0.09973026 0.10027973 0.09943054 0.10402618 0.10300215 0.10327689\n",
            " 0.10097907 0.10085419 0.09963035 0.10027973 0.10784754 0.10837205\n",
            " 0.11341725 0.11109446 0.10152855 0.10237774 0.10609921 0.1098956\n",
            " 0.10967081 0.1065238  0.10447575 0.10712323 0.11841251 0.11519057\n",
            " 0.11688896 0.11973625 0.12135971 0.12732904 0.12338279 0.12078525\n",
            " 0.10804736 0.10949598 0.10592437 0.10819721 0.10759778 0.10077926\n",
            " 0.10707733 0.10688464 0.10759512 0.10877021 0.1101072  0.11144206\n",
            " 0.112694   0.11382426 0.11481676 0.11567026]\n",
            " 10 day input [[0.11639489]]\n",
            "[[0.10707733035087585], [0.10688464343547821], [0.10759511590003967], [0.1087702065706253], [0.11010719835758209], [0.11144205927848816], [0.11269399523735046], [0.113824263215065], [0.11481675505638123], [0.11567026376724243], [0.11639489233493805]]\n",
            " 11 day input [0.0481043  0.05429842 0.05135122 0.04780459 0.04740497 0.05394875\n",
            " 0.04925321 0.05342425 0.05292472 0.05279984 0.04887857 0.04720516\n",
            " 0.04638094 0.04832909 0.04453269 0.05040212 0.05042709 0.0525251\n",
            " 0.05349918 0.0509516  0.05404865 0.06186623 0.05976822 0.06104201\n",
            " 0.06513812 0.06181627 0.06641191 0.07060792 0.06990859 0.06918427\n",
            " 0.06843499 0.07260602 0.07647735 0.07805085 0.07882512 0.08554373\n",
            " 0.09068885 0.0970578  0.09373595 0.09840651 0.09688296 0.09973026\n",
            " 0.10849693 0.10682352 0.10160348 0.09176283 0.10100405 0.09913083\n",
            " 0.1026275  0.10702333 0.10809731 0.10255258 0.09808182 0.09973026\n",
            " 0.10027973 0.09943054 0.10402618 0.10300215 0.10327689 0.10097907\n",
            " 0.10085419 0.09963035 0.10027973 0.10784754 0.10837205 0.11341725\n",
            " 0.11109446 0.10152855 0.10237774 0.10609921 0.1098956  0.10967081\n",
            " 0.1065238  0.10447575 0.10712323 0.11841251 0.11519057 0.11688896\n",
            " 0.11973625 0.12135971 0.12732904 0.12338279 0.12078525 0.10804736\n",
            " 0.10949598 0.10592437 0.10819721 0.10759778 0.10077926 0.10707733\n",
            " 0.10688464 0.10759512 0.10877021 0.1101072  0.11144206 0.112694\n",
            " 0.11382426 0.11481676 0.11567026 0.11639489]\n",
            " 11 day input [[0.11700942]]\n",
            "[[0.10707733035087585], [0.10688464343547821], [0.10759511590003967], [0.1087702065706253], [0.11010719835758209], [0.11144205927848816], [0.11269399523735046], [0.113824263215065], [0.11481675505638123], [0.11567026376724243], [0.11639489233493805], [0.11700941622257233]]\n",
            " 12 day input [0.05429842 0.05135122 0.04780459 0.04740497 0.05394875 0.04925321\n",
            " 0.05342425 0.05292472 0.05279984 0.04887857 0.04720516 0.04638094\n",
            " 0.04832909 0.04453269 0.05040212 0.05042709 0.0525251  0.05349918\n",
            " 0.0509516  0.05404865 0.06186623 0.05976822 0.06104201 0.06513812\n",
            " 0.06181627 0.06641191 0.07060792 0.06990859 0.06918427 0.06843499\n",
            " 0.07260602 0.07647735 0.07805085 0.07882512 0.08554373 0.09068885\n",
            " 0.0970578  0.09373595 0.09840651 0.09688296 0.09973026 0.10849693\n",
            " 0.10682352 0.10160348 0.09176283 0.10100405 0.09913083 0.1026275\n",
            " 0.10702333 0.10809731 0.10255258 0.09808182 0.09973026 0.10027973\n",
            " 0.09943054 0.10402618 0.10300215 0.10327689 0.10097907 0.10085419\n",
            " 0.09963035 0.10027973 0.10784754 0.10837205 0.11341725 0.11109446\n",
            " 0.10152855 0.10237774 0.10609921 0.1098956  0.10967081 0.1065238\n",
            " 0.10447575 0.10712323 0.11841251 0.11519057 0.11688896 0.11973625\n",
            " 0.12135971 0.12732904 0.12338279 0.12078525 0.10804736 0.10949598\n",
            " 0.10592437 0.10819721 0.10759778 0.10077926 0.10707733 0.10688464\n",
            " 0.10759512 0.10877021 0.1101072  0.11144206 0.112694   0.11382426\n",
            " 0.11481676 0.11567026 0.11639489 0.11700942]\n",
            " 12 day input [[0.11753818]]\n",
            "[[0.10707733035087585], [0.10688464343547821], [0.10759511590003967], [0.1087702065706253], [0.11010719835758209], [0.11144205927848816], [0.11269399523735046], [0.113824263215065], [0.11481675505638123], [0.11567026376724243], [0.11639489233493805], [0.11700941622257233], [0.11753818392753601]]\n",
            " 13 day input [0.05135122 0.04780459 0.04740497 0.05394875 0.04925321 0.05342425\n",
            " 0.05292472 0.05279984 0.04887857 0.04720516 0.04638094 0.04832909\n",
            " 0.04453269 0.05040212 0.05042709 0.0525251  0.05349918 0.0509516\n",
            " 0.05404865 0.06186623 0.05976822 0.06104201 0.06513812 0.06181627\n",
            " 0.06641191 0.07060792 0.06990859 0.06918427 0.06843499 0.07260602\n",
            " 0.07647735 0.07805085 0.07882512 0.08554373 0.09068885 0.0970578\n",
            " 0.09373595 0.09840651 0.09688296 0.09973026 0.10849693 0.10682352\n",
            " 0.10160348 0.09176283 0.10100405 0.09913083 0.1026275  0.10702333\n",
            " 0.10809731 0.10255258 0.09808182 0.09973026 0.10027973 0.09943054\n",
            " 0.10402618 0.10300215 0.10327689 0.10097907 0.10085419 0.09963035\n",
            " 0.10027973 0.10784754 0.10837205 0.11341725 0.11109446 0.10152855\n",
            " 0.10237774 0.10609921 0.1098956  0.10967081 0.1065238  0.10447575\n",
            " 0.10712323 0.11841251 0.11519057 0.11688896 0.11973625 0.12135971\n",
            " 0.12732904 0.12338279 0.12078525 0.10804736 0.10949598 0.10592437\n",
            " 0.10819721 0.10759778 0.10077926 0.10707733 0.10688464 0.10759512\n",
            " 0.10877021 0.1101072  0.11144206 0.112694   0.11382426 0.11481676\n",
            " 0.11567026 0.11639489 0.11700942 0.11753818]\n",
            " 13 day input [[0.11800776]]\n",
            "[[0.10707733035087585], [0.10688464343547821], [0.10759511590003967], [0.1087702065706253], [0.11010719835758209], [0.11144205927848816], [0.11269399523735046], [0.113824263215065], [0.11481675505638123], [0.11567026376724243], [0.11639489233493805], [0.11700941622257233], [0.11753818392753601], [0.11800776422023773]]\n",
            " 14 day input [0.04780459 0.04740497 0.05394875 0.04925321 0.05342425 0.05292472\n",
            " 0.05279984 0.04887857 0.04720516 0.04638094 0.04832909 0.04453269\n",
            " 0.05040212 0.05042709 0.0525251  0.05349918 0.0509516  0.05404865\n",
            " 0.06186623 0.05976822 0.06104201 0.06513812 0.06181627 0.06641191\n",
            " 0.07060792 0.06990859 0.06918427 0.06843499 0.07260602 0.07647735\n",
            " 0.07805085 0.07882512 0.08554373 0.09068885 0.0970578  0.09373595\n",
            " 0.09840651 0.09688296 0.09973026 0.10849693 0.10682352 0.10160348\n",
            " 0.09176283 0.10100405 0.09913083 0.1026275  0.10702333 0.10809731\n",
            " 0.10255258 0.09808182 0.09973026 0.10027973 0.09943054 0.10402618\n",
            " 0.10300215 0.10327689 0.10097907 0.10085419 0.09963035 0.10027973\n",
            " 0.10784754 0.10837205 0.11341725 0.11109446 0.10152855 0.10237774\n",
            " 0.10609921 0.1098956  0.10967081 0.1065238  0.10447575 0.10712323\n",
            " 0.11841251 0.11519057 0.11688896 0.11973625 0.12135971 0.12732904\n",
            " 0.12338279 0.12078525 0.10804736 0.10949598 0.10592437 0.10819721\n",
            " 0.10759778 0.10077926 0.10707733 0.10688464 0.10759512 0.10877021\n",
            " 0.1101072  0.11144206 0.112694   0.11382426 0.11481676 0.11567026\n",
            " 0.11639489 0.11700942 0.11753818 0.11800776]\n",
            " 14 day input [[0.11844446]]\n",
            "[[0.10707733035087585], [0.10688464343547821], [0.10759511590003967], [0.1087702065706253], [0.11010719835758209], [0.11144205927848816], [0.11269399523735046], [0.113824263215065], [0.11481675505638123], [0.11567026376724243], [0.11639489233493805], [0.11700941622257233], [0.11753818392753601], [0.11800776422023773], [0.11844445765018463]]\n",
            " 15 day input [0.04740497 0.05394875 0.04925321 0.05342425 0.05292472 0.05279984\n",
            " 0.04887857 0.04720516 0.04638094 0.04832909 0.04453269 0.05040212\n",
            " 0.05042709 0.0525251  0.05349918 0.0509516  0.05404865 0.06186623\n",
            " 0.05976822 0.06104201 0.06513812 0.06181627 0.06641191 0.07060792\n",
            " 0.06990859 0.06918427 0.06843499 0.07260602 0.07647735 0.07805085\n",
            " 0.07882512 0.08554373 0.09068885 0.0970578  0.09373595 0.09840651\n",
            " 0.09688296 0.09973026 0.10849693 0.10682352 0.10160348 0.09176283\n",
            " 0.10100405 0.09913083 0.1026275  0.10702333 0.10809731 0.10255258\n",
            " 0.09808182 0.09973026 0.10027973 0.09943054 0.10402618 0.10300215\n",
            " 0.10327689 0.10097907 0.10085419 0.09963035 0.10027973 0.10784754\n",
            " 0.10837205 0.11341725 0.11109446 0.10152855 0.10237774 0.10609921\n",
            " 0.1098956  0.10967081 0.1065238  0.10447575 0.10712323 0.11841251\n",
            " 0.11519057 0.11688896 0.11973625 0.12135971 0.12732904 0.12338279\n",
            " 0.12078525 0.10804736 0.10949598 0.10592437 0.10819721 0.10759778\n",
            " 0.10077926 0.10707733 0.10688464 0.10759512 0.10877021 0.1101072\n",
            " 0.11144206 0.112694   0.11382426 0.11481676 0.11567026 0.11639489\n",
            " 0.11700942 0.11753818 0.11800776 0.11844446]\n",
            " 15 day input [[0.11887167]]\n",
            "[[0.10707733035087585], [0.10688464343547821], [0.10759511590003967], [0.1087702065706253], [0.11010719835758209], [0.11144205927848816], [0.11269399523735046], [0.113824263215065], [0.11481675505638123], [0.11567026376724243], [0.11639489233493805], [0.11700941622257233], [0.11753818392753601], [0.11800776422023773], [0.11844445765018463], [0.11887167394161224]]\n",
            " 16 day input [0.05394875 0.04925321 0.05342425 0.05292472 0.05279984 0.04887857\n",
            " 0.04720516 0.04638094 0.04832909 0.04453269 0.05040212 0.05042709\n",
            " 0.0525251  0.05349918 0.0509516  0.05404865 0.06186623 0.05976822\n",
            " 0.06104201 0.06513812 0.06181627 0.06641191 0.07060792 0.06990859\n",
            " 0.06918427 0.06843499 0.07260602 0.07647735 0.07805085 0.07882512\n",
            " 0.08554373 0.09068885 0.0970578  0.09373595 0.09840651 0.09688296\n",
            " 0.09973026 0.10849693 0.10682352 0.10160348 0.09176283 0.10100405\n",
            " 0.09913083 0.1026275  0.10702333 0.10809731 0.10255258 0.09808182\n",
            " 0.09973026 0.10027973 0.09943054 0.10402618 0.10300215 0.10327689\n",
            " 0.10097907 0.10085419 0.09963035 0.10027973 0.10784754 0.10837205\n",
            " 0.11341725 0.11109446 0.10152855 0.10237774 0.10609921 0.1098956\n",
            " 0.10967081 0.1065238  0.10447575 0.10712323 0.11841251 0.11519057\n",
            " 0.11688896 0.11973625 0.12135971 0.12732904 0.12338279 0.12078525\n",
            " 0.10804736 0.10949598 0.10592437 0.10819721 0.10759778 0.10077926\n",
            " 0.10707733 0.10688464 0.10759512 0.10877021 0.1101072  0.11144206\n",
            " 0.112694   0.11382426 0.11481676 0.11567026 0.11639489 0.11700942\n",
            " 0.11753818 0.11800776 0.11844446 0.11887167]\n",
            " 16 day input [[0.11930881]]\n",
            "[[0.10707733035087585], [0.10688464343547821], [0.10759511590003967], [0.1087702065706253], [0.11010719835758209], [0.11144205927848816], [0.11269399523735046], [0.113824263215065], [0.11481675505638123], [0.11567026376724243], [0.11639489233493805], [0.11700941622257233], [0.11753818392753601], [0.11800776422023773], [0.11844445765018463], [0.11887167394161224], [0.11930881440639496]]\n",
            " 17 day input [0.04925321 0.05342425 0.05292472 0.05279984 0.04887857 0.04720516\n",
            " 0.04638094 0.04832909 0.04453269 0.05040212 0.05042709 0.0525251\n",
            " 0.05349918 0.0509516  0.05404865 0.06186623 0.05976822 0.06104201\n",
            " 0.06513812 0.06181627 0.06641191 0.07060792 0.06990859 0.06918427\n",
            " 0.06843499 0.07260602 0.07647735 0.07805085 0.07882512 0.08554373\n",
            " 0.09068885 0.0970578  0.09373595 0.09840651 0.09688296 0.09973026\n",
            " 0.10849693 0.10682352 0.10160348 0.09176283 0.10100405 0.09913083\n",
            " 0.1026275  0.10702333 0.10809731 0.10255258 0.09808182 0.09973026\n",
            " 0.10027973 0.09943054 0.10402618 0.10300215 0.10327689 0.10097907\n",
            " 0.10085419 0.09963035 0.10027973 0.10784754 0.10837205 0.11341725\n",
            " 0.11109446 0.10152855 0.10237774 0.10609921 0.1098956  0.10967081\n",
            " 0.1065238  0.10447575 0.10712323 0.11841251 0.11519057 0.11688896\n",
            " 0.11973625 0.12135971 0.12732904 0.12338279 0.12078525 0.10804736\n",
            " 0.10949598 0.10592437 0.10819721 0.10759778 0.10077926 0.10707733\n",
            " 0.10688464 0.10759512 0.10877021 0.1101072  0.11144206 0.112694\n",
            " 0.11382426 0.11481676 0.11567026 0.11639489 0.11700942 0.11753818\n",
            " 0.11800776 0.11844446 0.11887167 0.11930881]\n",
            " 17 day input [[0.11977006]]\n",
            "[[0.10707733035087585], [0.10688464343547821], [0.10759511590003967], [0.1087702065706253], [0.11010719835758209], [0.11144205927848816], [0.11269399523735046], [0.113824263215065], [0.11481675505638123], [0.11567026376724243], [0.11639489233493805], [0.11700941622257233], [0.11753818392753601], [0.11800776422023773], [0.11844445765018463], [0.11887167394161224], [0.11930881440639496], [0.11977006494998932]]\n",
            " 18 day input [0.05342425 0.05292472 0.05279984 0.04887857 0.04720516 0.04638094\n",
            " 0.04832909 0.04453269 0.05040212 0.05042709 0.0525251  0.05349918\n",
            " 0.0509516  0.05404865 0.06186623 0.05976822 0.06104201 0.06513812\n",
            " 0.06181627 0.06641191 0.07060792 0.06990859 0.06918427 0.06843499\n",
            " 0.07260602 0.07647735 0.07805085 0.07882512 0.08554373 0.09068885\n",
            " 0.0970578  0.09373595 0.09840651 0.09688296 0.09973026 0.10849693\n",
            " 0.10682352 0.10160348 0.09176283 0.10100405 0.09913083 0.1026275\n",
            " 0.10702333 0.10809731 0.10255258 0.09808182 0.09973026 0.10027973\n",
            " 0.09943054 0.10402618 0.10300215 0.10327689 0.10097907 0.10085419\n",
            " 0.09963035 0.10027973 0.10784754 0.10837205 0.11341725 0.11109446\n",
            " 0.10152855 0.10237774 0.10609921 0.1098956  0.10967081 0.1065238\n",
            " 0.10447575 0.10712323 0.11841251 0.11519057 0.11688896 0.11973625\n",
            " 0.12135971 0.12732904 0.12338279 0.12078525 0.10804736 0.10949598\n",
            " 0.10592437 0.10819721 0.10759778 0.10077926 0.10707733 0.10688464\n",
            " 0.10759512 0.10877021 0.1101072  0.11144206 0.112694   0.11382426\n",
            " 0.11481676 0.11567026 0.11639489 0.11700942 0.11753818 0.11800776\n",
            " 0.11844446 0.11887167 0.11930881 0.11977006]\n",
            " 18 day input [[0.12026446]]\n",
            "[[0.10707733035087585], [0.10688464343547821], [0.10759511590003967], [0.1087702065706253], [0.11010719835758209], [0.11144205927848816], [0.11269399523735046], [0.113824263215065], [0.11481675505638123], [0.11567026376724243], [0.11639489233493805], [0.11700941622257233], [0.11753818392753601], [0.11800776422023773], [0.11844445765018463], [0.11887167394161224], [0.11930881440639496], [0.11977006494998932], [0.1202644556760788]]\n",
            " 19 day input [0.05292472 0.05279984 0.04887857 0.04720516 0.04638094 0.04832909\n",
            " 0.04453269 0.05040212 0.05042709 0.0525251  0.05349918 0.0509516\n",
            " 0.05404865 0.06186623 0.05976822 0.06104201 0.06513812 0.06181627\n",
            " 0.06641191 0.07060792 0.06990859 0.06918427 0.06843499 0.07260602\n",
            " 0.07647735 0.07805085 0.07882512 0.08554373 0.09068885 0.0970578\n",
            " 0.09373595 0.09840651 0.09688296 0.09973026 0.10849693 0.10682352\n",
            " 0.10160348 0.09176283 0.10100405 0.09913083 0.1026275  0.10702333\n",
            " 0.10809731 0.10255258 0.09808182 0.09973026 0.10027973 0.09943054\n",
            " 0.10402618 0.10300215 0.10327689 0.10097907 0.10085419 0.09963035\n",
            " 0.10027973 0.10784754 0.10837205 0.11341725 0.11109446 0.10152855\n",
            " 0.10237774 0.10609921 0.1098956  0.10967081 0.1065238  0.10447575\n",
            " 0.10712323 0.11841251 0.11519057 0.11688896 0.11973625 0.12135971\n",
            " 0.12732904 0.12338279 0.12078525 0.10804736 0.10949598 0.10592437\n",
            " 0.10819721 0.10759778 0.10077926 0.10707733 0.10688464 0.10759512\n",
            " 0.10877021 0.1101072  0.11144206 0.112694   0.11382426 0.11481676\n",
            " 0.11567026 0.11639489 0.11700942 0.11753818 0.11800776 0.11844446\n",
            " 0.11887167 0.11930881 0.11977006 0.12026446]\n",
            " 19 day input [[0.12079611]]\n",
            "[[0.10707733035087585], [0.10688464343547821], [0.10759511590003967], [0.1087702065706253], [0.11010719835758209], [0.11144205927848816], [0.11269399523735046], [0.113824263215065], [0.11481675505638123], [0.11567026376724243], [0.11639489233493805], [0.11700941622257233], [0.11753818392753601], [0.11800776422023773], [0.11844445765018463], [0.11887167394161224], [0.11930881440639496], [0.11977006494998932], [0.1202644556760788], [0.12079611420631409]]\n",
            " 20 day input [0.05279984 0.04887857 0.04720516 0.04638094 0.04832909 0.04453269\n",
            " 0.05040212 0.05042709 0.0525251  0.05349918 0.0509516  0.05404865\n",
            " 0.06186623 0.05976822 0.06104201 0.06513812 0.06181627 0.06641191\n",
            " 0.07060792 0.06990859 0.06918427 0.06843499 0.07260602 0.07647735\n",
            " 0.07805085 0.07882512 0.08554373 0.09068885 0.0970578  0.09373595\n",
            " 0.09840651 0.09688296 0.09973026 0.10849693 0.10682352 0.10160348\n",
            " 0.09176283 0.10100405 0.09913083 0.1026275  0.10702333 0.10809731\n",
            " 0.10255258 0.09808182 0.09973026 0.10027973 0.09943054 0.10402618\n",
            " 0.10300215 0.10327689 0.10097907 0.10085419 0.09963035 0.10027973\n",
            " 0.10784754 0.10837205 0.11341725 0.11109446 0.10152855 0.10237774\n",
            " 0.10609921 0.1098956  0.10967081 0.1065238  0.10447575 0.10712323\n",
            " 0.11841251 0.11519057 0.11688896 0.11973625 0.12135971 0.12732904\n",
            " 0.12338279 0.12078525 0.10804736 0.10949598 0.10592437 0.10819721\n",
            " 0.10759778 0.10077926 0.10707733 0.10688464 0.10759512 0.10877021\n",
            " 0.1101072  0.11144206 0.112694   0.11382426 0.11481676 0.11567026\n",
            " 0.11639489 0.11700942 0.11753818 0.11800776 0.11844446 0.11887167\n",
            " 0.11930881 0.11977006 0.12026446 0.12079611]\n",
            " 20 day input [[0.12136488]]\n",
            "[[0.10707733035087585], [0.10688464343547821], [0.10759511590003967], [0.1087702065706253], [0.11010719835758209], [0.11144205927848816], [0.11269399523735046], [0.113824263215065], [0.11481675505638123], [0.11567026376724243], [0.11639489233493805], [0.11700941622257233], [0.11753818392753601], [0.11800776422023773], [0.11844445765018463], [0.11887167394161224], [0.11930881440639496], [0.11977006494998932], [0.1202644556760788], [0.12079611420631409], [0.12136487662792206]]\n",
            " 21 day input [0.04887857 0.04720516 0.04638094 0.04832909 0.04453269 0.05040212\n",
            " 0.05042709 0.0525251  0.05349918 0.0509516  0.05404865 0.06186623\n",
            " 0.05976822 0.06104201 0.06513812 0.06181627 0.06641191 0.07060792\n",
            " 0.06990859 0.06918427 0.06843499 0.07260602 0.07647735 0.07805085\n",
            " 0.07882512 0.08554373 0.09068885 0.0970578  0.09373595 0.09840651\n",
            " 0.09688296 0.09973026 0.10849693 0.10682352 0.10160348 0.09176283\n",
            " 0.10100405 0.09913083 0.1026275  0.10702333 0.10809731 0.10255258\n",
            " 0.09808182 0.09973026 0.10027973 0.09943054 0.10402618 0.10300215\n",
            " 0.10327689 0.10097907 0.10085419 0.09963035 0.10027973 0.10784754\n",
            " 0.10837205 0.11341725 0.11109446 0.10152855 0.10237774 0.10609921\n",
            " 0.1098956  0.10967081 0.1065238  0.10447575 0.10712323 0.11841251\n",
            " 0.11519057 0.11688896 0.11973625 0.12135971 0.12732904 0.12338279\n",
            " 0.12078525 0.10804736 0.10949598 0.10592437 0.10819721 0.10759778\n",
            " 0.10077926 0.10707733 0.10688464 0.10759512 0.10877021 0.1101072\n",
            " 0.11144206 0.112694   0.11382426 0.11481676 0.11567026 0.11639489\n",
            " 0.11700942 0.11753818 0.11800776 0.11844446 0.11887167 0.11930881\n",
            " 0.11977006 0.12026446 0.12079611 0.12136488]\n",
            " 21 day input [[0.12196729]]\n",
            "[[0.10707733035087585], [0.10688464343547821], [0.10759511590003967], [0.1087702065706253], [0.11010719835758209], [0.11144205927848816], [0.11269399523735046], [0.113824263215065], [0.11481675505638123], [0.11567026376724243], [0.11639489233493805], [0.11700941622257233], [0.11753818392753601], [0.11800776422023773], [0.11844445765018463], [0.11887167394161224], [0.11930881440639496], [0.11977006494998932], [0.1202644556760788], [0.12079611420631409], [0.12136487662792206], [0.12196728587150574]]\n",
            " 22 day input [0.04720516 0.04638094 0.04832909 0.04453269 0.05040212 0.05042709\n",
            " 0.0525251  0.05349918 0.0509516  0.05404865 0.06186623 0.05976822\n",
            " 0.06104201 0.06513812 0.06181627 0.06641191 0.07060792 0.06990859\n",
            " 0.06918427 0.06843499 0.07260602 0.07647735 0.07805085 0.07882512\n",
            " 0.08554373 0.09068885 0.0970578  0.09373595 0.09840651 0.09688296\n",
            " 0.09973026 0.10849693 0.10682352 0.10160348 0.09176283 0.10100405\n",
            " 0.09913083 0.1026275  0.10702333 0.10809731 0.10255258 0.09808182\n",
            " 0.09973026 0.10027973 0.09943054 0.10402618 0.10300215 0.10327689\n",
            " 0.10097907 0.10085419 0.09963035 0.10027973 0.10784754 0.10837205\n",
            " 0.11341725 0.11109446 0.10152855 0.10237774 0.10609921 0.1098956\n",
            " 0.10967081 0.1065238  0.10447575 0.10712323 0.11841251 0.11519057\n",
            " 0.11688896 0.11973625 0.12135971 0.12732904 0.12338279 0.12078525\n",
            " 0.10804736 0.10949598 0.10592437 0.10819721 0.10759778 0.10077926\n",
            " 0.10707733 0.10688464 0.10759512 0.10877021 0.1101072  0.11144206\n",
            " 0.112694   0.11382426 0.11481676 0.11567026 0.11639489 0.11700942\n",
            " 0.11753818 0.11800776 0.11844446 0.11887167 0.11930881 0.11977006\n",
            " 0.12026446 0.12079611 0.12136488 0.12196729]\n",
            " 22 day input [[0.12259749]]\n",
            "[[0.10707733035087585], [0.10688464343547821], [0.10759511590003967], [0.1087702065706253], [0.11010719835758209], [0.11144205927848816], [0.11269399523735046], [0.113824263215065], [0.11481675505638123], [0.11567026376724243], [0.11639489233493805], [0.11700941622257233], [0.11753818392753601], [0.11800776422023773], [0.11844445765018463], [0.11887167394161224], [0.11930881440639496], [0.11977006494998932], [0.1202644556760788], [0.12079611420631409], [0.12136487662792206], [0.12196728587150574], [0.12259748578071594]]\n",
            " 23 day input [0.04638094 0.04832909 0.04453269 0.05040212 0.05042709 0.0525251\n",
            " 0.05349918 0.0509516  0.05404865 0.06186623 0.05976822 0.06104201\n",
            " 0.06513812 0.06181627 0.06641191 0.07060792 0.06990859 0.06918427\n",
            " 0.06843499 0.07260602 0.07647735 0.07805085 0.07882512 0.08554373\n",
            " 0.09068885 0.0970578  0.09373595 0.09840651 0.09688296 0.09973026\n",
            " 0.10849693 0.10682352 0.10160348 0.09176283 0.10100405 0.09913083\n",
            " 0.1026275  0.10702333 0.10809731 0.10255258 0.09808182 0.09973026\n",
            " 0.10027973 0.09943054 0.10402618 0.10300215 0.10327689 0.10097907\n",
            " 0.10085419 0.09963035 0.10027973 0.10784754 0.10837205 0.11341725\n",
            " 0.11109446 0.10152855 0.10237774 0.10609921 0.1098956  0.10967081\n",
            " 0.1065238  0.10447575 0.10712323 0.11841251 0.11519057 0.11688896\n",
            " 0.11973625 0.12135971 0.12732904 0.12338279 0.12078525 0.10804736\n",
            " 0.10949598 0.10592437 0.10819721 0.10759778 0.10077926 0.10707733\n",
            " 0.10688464 0.10759512 0.10877021 0.1101072  0.11144206 0.112694\n",
            " 0.11382426 0.11481676 0.11567026 0.11639489 0.11700942 0.11753818\n",
            " 0.11800776 0.11844446 0.11887167 0.11930881 0.11977006 0.12026446\n",
            " 0.12079611 0.12136488 0.12196729 0.12259749]\n",
            " 23 day input [[0.12324831]]\n",
            "[[0.10707733035087585], [0.10688464343547821], [0.10759511590003967], [0.1087702065706253], [0.11010719835758209], [0.11144205927848816], [0.11269399523735046], [0.113824263215065], [0.11481675505638123], [0.11567026376724243], [0.11639489233493805], [0.11700941622257233], [0.11753818392753601], [0.11800776422023773], [0.11844445765018463], [0.11887167394161224], [0.11930881440639496], [0.11977006494998932], [0.1202644556760788], [0.12079611420631409], [0.12136487662792206], [0.12196728587150574], [0.12259748578071594], [0.12324830889701843]]\n",
            " 24 day input [0.04832909 0.04453269 0.05040212 0.05042709 0.0525251  0.05349918\n",
            " 0.0509516  0.05404865 0.06186623 0.05976822 0.06104201 0.06513812\n",
            " 0.06181627 0.06641191 0.07060792 0.06990859 0.06918427 0.06843499\n",
            " 0.07260602 0.07647735 0.07805085 0.07882512 0.08554373 0.09068885\n",
            " 0.0970578  0.09373595 0.09840651 0.09688296 0.09973026 0.10849693\n",
            " 0.10682352 0.10160348 0.09176283 0.10100405 0.09913083 0.1026275\n",
            " 0.10702333 0.10809731 0.10255258 0.09808182 0.09973026 0.10027973\n",
            " 0.09943054 0.10402618 0.10300215 0.10327689 0.10097907 0.10085419\n",
            " 0.09963035 0.10027973 0.10784754 0.10837205 0.11341725 0.11109446\n",
            " 0.10152855 0.10237774 0.10609921 0.1098956  0.10967081 0.1065238\n",
            " 0.10447575 0.10712323 0.11841251 0.11519057 0.11688896 0.11973625\n",
            " 0.12135971 0.12732904 0.12338279 0.12078525 0.10804736 0.10949598\n",
            " 0.10592437 0.10819721 0.10759778 0.10077926 0.10707733 0.10688464\n",
            " 0.10759512 0.10877021 0.1101072  0.11144206 0.112694   0.11382426\n",
            " 0.11481676 0.11567026 0.11639489 0.11700942 0.11753818 0.11800776\n",
            " 0.11844446 0.11887167 0.11930881 0.11977006 0.12026446 0.12079611\n",
            " 0.12136488 0.12196729 0.12259749 0.12324831]\n",
            " 24 day input [[0.12391214]]\n",
            "[[0.10707733035087585], [0.10688464343547821], [0.10759511590003967], [0.1087702065706253], [0.11010719835758209], [0.11144205927848816], [0.11269399523735046], [0.113824263215065], [0.11481675505638123], [0.11567026376724243], [0.11639489233493805], [0.11700941622257233], [0.11753818392753601], [0.11800776422023773], [0.11844445765018463], [0.11887167394161224], [0.11930881440639496], [0.11977006494998932], [0.1202644556760788], [0.12079611420631409], [0.12136487662792206], [0.12196728587150574], [0.12259748578071594], [0.12324830889701843], [0.12391214072704315]]\n",
            " 25 day input [0.04453269 0.05040212 0.05042709 0.0525251  0.05349918 0.0509516\n",
            " 0.05404865 0.06186623 0.05976822 0.06104201 0.06513812 0.06181627\n",
            " 0.06641191 0.07060792 0.06990859 0.06918427 0.06843499 0.07260602\n",
            " 0.07647735 0.07805085 0.07882512 0.08554373 0.09068885 0.0970578\n",
            " 0.09373595 0.09840651 0.09688296 0.09973026 0.10849693 0.10682352\n",
            " 0.10160348 0.09176283 0.10100405 0.09913083 0.1026275  0.10702333\n",
            " 0.10809731 0.10255258 0.09808182 0.09973026 0.10027973 0.09943054\n",
            " 0.10402618 0.10300215 0.10327689 0.10097907 0.10085419 0.09963035\n",
            " 0.10027973 0.10784754 0.10837205 0.11341725 0.11109446 0.10152855\n",
            " 0.10237774 0.10609921 0.1098956  0.10967081 0.1065238  0.10447575\n",
            " 0.10712323 0.11841251 0.11519057 0.11688896 0.11973625 0.12135971\n",
            " 0.12732904 0.12338279 0.12078525 0.10804736 0.10949598 0.10592437\n",
            " 0.10819721 0.10759778 0.10077926 0.10707733 0.10688464 0.10759512\n",
            " 0.10877021 0.1101072  0.11144206 0.112694   0.11382426 0.11481676\n",
            " 0.11567026 0.11639489 0.11700942 0.11753818 0.11800776 0.11844446\n",
            " 0.11887167 0.11930881 0.11977006 0.12026446 0.12079611 0.12136488\n",
            " 0.12196729 0.12259749 0.12324831 0.12391214]\n",
            " 25 day input [[0.12458155]]\n",
            "[[0.10707733035087585], [0.10688464343547821], [0.10759511590003967], [0.1087702065706253], [0.11010719835758209], [0.11144205927848816], [0.11269399523735046], [0.113824263215065], [0.11481675505638123], [0.11567026376724243], [0.11639489233493805], [0.11700941622257233], [0.11753818392753601], [0.11800776422023773], [0.11844445765018463], [0.11887167394161224], [0.11930881440639496], [0.11977006494998932], [0.1202644556760788], [0.12079611420631409], [0.12136487662792206], [0.12196728587150574], [0.12259748578071594], [0.12324830889701843], [0.12391214072704315], [0.12458154559135437]]\n",
            " 26 day input [0.05040212 0.05042709 0.0525251  0.05349918 0.0509516  0.05404865\n",
            " 0.06186623 0.05976822 0.06104201 0.06513812 0.06181627 0.06641191\n",
            " 0.07060792 0.06990859 0.06918427 0.06843499 0.07260602 0.07647735\n",
            " 0.07805085 0.07882512 0.08554373 0.09068885 0.0970578  0.09373595\n",
            " 0.09840651 0.09688296 0.09973026 0.10849693 0.10682352 0.10160348\n",
            " 0.09176283 0.10100405 0.09913083 0.1026275  0.10702333 0.10809731\n",
            " 0.10255258 0.09808182 0.09973026 0.10027973 0.09943054 0.10402618\n",
            " 0.10300215 0.10327689 0.10097907 0.10085419 0.09963035 0.10027973\n",
            " 0.10784754 0.10837205 0.11341725 0.11109446 0.10152855 0.10237774\n",
            " 0.10609921 0.1098956  0.10967081 0.1065238  0.10447575 0.10712323\n",
            " 0.11841251 0.11519057 0.11688896 0.11973625 0.12135971 0.12732904\n",
            " 0.12338279 0.12078525 0.10804736 0.10949598 0.10592437 0.10819721\n",
            " 0.10759778 0.10077926 0.10707733 0.10688464 0.10759512 0.10877021\n",
            " 0.1101072  0.11144206 0.112694   0.11382426 0.11481676 0.11567026\n",
            " 0.11639489 0.11700942 0.11753818 0.11800776 0.11844446 0.11887167\n",
            " 0.11930881 0.11977006 0.12026446 0.12079611 0.12136488 0.12196729\n",
            " 0.12259749 0.12324831 0.12391214 0.12458155]\n",
            " 26 day input [[0.12524994]]\n",
            "[[0.10707733035087585], [0.10688464343547821], [0.10759511590003967], [0.1087702065706253], [0.11010719835758209], [0.11144205927848816], [0.11269399523735046], [0.113824263215065], [0.11481675505638123], [0.11567026376724243], [0.11639489233493805], [0.11700941622257233], [0.11753818392753601], [0.11800776422023773], [0.11844445765018463], [0.11887167394161224], [0.11930881440639496], [0.11977006494998932], [0.1202644556760788], [0.12079611420631409], [0.12136487662792206], [0.12196728587150574], [0.12259748578071594], [0.12324830889701843], [0.12391214072704315], [0.12458154559135437], [0.1252499371767044]]\n",
            " 27 day input [0.05042709 0.0525251  0.05349918 0.0509516  0.05404865 0.06186623\n",
            " 0.05976822 0.06104201 0.06513812 0.06181627 0.06641191 0.07060792\n",
            " 0.06990859 0.06918427 0.06843499 0.07260602 0.07647735 0.07805085\n",
            " 0.07882512 0.08554373 0.09068885 0.0970578  0.09373595 0.09840651\n",
            " 0.09688296 0.09973026 0.10849693 0.10682352 0.10160348 0.09176283\n",
            " 0.10100405 0.09913083 0.1026275  0.10702333 0.10809731 0.10255258\n",
            " 0.09808182 0.09973026 0.10027973 0.09943054 0.10402618 0.10300215\n",
            " 0.10327689 0.10097907 0.10085419 0.09963035 0.10027973 0.10784754\n",
            " 0.10837205 0.11341725 0.11109446 0.10152855 0.10237774 0.10609921\n",
            " 0.1098956  0.10967081 0.1065238  0.10447575 0.10712323 0.11841251\n",
            " 0.11519057 0.11688896 0.11973625 0.12135971 0.12732904 0.12338279\n",
            " 0.12078525 0.10804736 0.10949598 0.10592437 0.10819721 0.10759778\n",
            " 0.10077926 0.10707733 0.10688464 0.10759512 0.10877021 0.1101072\n",
            " 0.11144206 0.112694   0.11382426 0.11481676 0.11567026 0.11639489\n",
            " 0.11700942 0.11753818 0.11800776 0.11844446 0.11887167 0.11930881\n",
            " 0.11977006 0.12026446 0.12079611 0.12136488 0.12196729 0.12259749\n",
            " 0.12324831 0.12391214 0.12458155 0.12524994]\n",
            " 27 day input [[0.125912]]\n",
            "[[0.10707733035087585], [0.10688464343547821], [0.10759511590003967], [0.1087702065706253], [0.11010719835758209], [0.11144205927848816], [0.11269399523735046], [0.113824263215065], [0.11481675505638123], [0.11567026376724243], [0.11639489233493805], [0.11700941622257233], [0.11753818392753601], [0.11800776422023773], [0.11844445765018463], [0.11887167394161224], [0.11930881440639496], [0.11977006494998932], [0.1202644556760788], [0.12079611420631409], [0.12136487662792206], [0.12196728587150574], [0.12259748578071594], [0.12324830889701843], [0.12391214072704315], [0.12458154559135437], [0.1252499371767044], [0.12591199576854706]]\n",
            " 28 day input [0.0525251  0.05349918 0.0509516  0.05404865 0.06186623 0.05976822\n",
            " 0.06104201 0.06513812 0.06181627 0.06641191 0.07060792 0.06990859\n",
            " 0.06918427 0.06843499 0.07260602 0.07647735 0.07805085 0.07882512\n",
            " 0.08554373 0.09068885 0.0970578  0.09373595 0.09840651 0.09688296\n",
            " 0.09973026 0.10849693 0.10682352 0.10160348 0.09176283 0.10100405\n",
            " 0.09913083 0.1026275  0.10702333 0.10809731 0.10255258 0.09808182\n",
            " 0.09973026 0.10027973 0.09943054 0.10402618 0.10300215 0.10327689\n",
            " 0.10097907 0.10085419 0.09963035 0.10027973 0.10784754 0.10837205\n",
            " 0.11341725 0.11109446 0.10152855 0.10237774 0.10609921 0.1098956\n",
            " 0.10967081 0.1065238  0.10447575 0.10712323 0.11841251 0.11519057\n",
            " 0.11688896 0.11973625 0.12135971 0.12732904 0.12338279 0.12078525\n",
            " 0.10804736 0.10949598 0.10592437 0.10819721 0.10759778 0.10077926\n",
            " 0.10707733 0.10688464 0.10759512 0.10877021 0.1101072  0.11144206\n",
            " 0.112694   0.11382426 0.11481676 0.11567026 0.11639489 0.11700942\n",
            " 0.11753818 0.11800776 0.11844446 0.11887167 0.11930881 0.11977006\n",
            " 0.12026446 0.12079611 0.12136488 0.12196729 0.12259749 0.12324831\n",
            " 0.12391214 0.12458155 0.12524994 0.125912  ]\n",
            " 28 day input [[0.12656365]]\n",
            "[[0.10707733035087585], [0.10688464343547821], [0.10759511590003967], [0.1087702065706253], [0.11010719835758209], [0.11144205927848816], [0.11269399523735046], [0.113824263215065], [0.11481675505638123], [0.11567026376724243], [0.11639489233493805], [0.11700941622257233], [0.11753818392753601], [0.11800776422023773], [0.11844445765018463], [0.11887167394161224], [0.11930881440639496], [0.11977006494998932], [0.1202644556760788], [0.12079611420631409], [0.12136487662792206], [0.12196728587150574], [0.12259748578071594], [0.12324830889701843], [0.12391214072704315], [0.12458154559135437], [0.1252499371767044], [0.12591199576854706], [0.1265636533498764]]\n",
            " 29 day input [0.05349918 0.0509516  0.05404865 0.06186623 0.05976822 0.06104201\n",
            " 0.06513812 0.06181627 0.06641191 0.07060792 0.06990859 0.06918427\n",
            " 0.06843499 0.07260602 0.07647735 0.07805085 0.07882512 0.08554373\n",
            " 0.09068885 0.0970578  0.09373595 0.09840651 0.09688296 0.09973026\n",
            " 0.10849693 0.10682352 0.10160348 0.09176283 0.10100405 0.09913083\n",
            " 0.1026275  0.10702333 0.10809731 0.10255258 0.09808182 0.09973026\n",
            " 0.10027973 0.09943054 0.10402618 0.10300215 0.10327689 0.10097907\n",
            " 0.10085419 0.09963035 0.10027973 0.10784754 0.10837205 0.11341725\n",
            " 0.11109446 0.10152855 0.10237774 0.10609921 0.1098956  0.10967081\n",
            " 0.1065238  0.10447575 0.10712323 0.11841251 0.11519057 0.11688896\n",
            " 0.11973625 0.12135971 0.12732904 0.12338279 0.12078525 0.10804736\n",
            " 0.10949598 0.10592437 0.10819721 0.10759778 0.10077926 0.10707733\n",
            " 0.10688464 0.10759512 0.10877021 0.1101072  0.11144206 0.112694\n",
            " 0.11382426 0.11481676 0.11567026 0.11639489 0.11700942 0.11753818\n",
            " 0.11800776 0.11844446 0.11887167 0.11930881 0.11977006 0.12026446\n",
            " 0.12079611 0.12136488 0.12196729 0.12259749 0.12324831 0.12391214\n",
            " 0.12458155 0.12524994 0.125912   0.12656365]\n",
            " 29 day input [[0.12720233]]\n",
            "[[0.10707733035087585], [0.10688464343547821], [0.10759511590003967], [0.1087702065706253], [0.11010719835758209], [0.11144205927848816], [0.11269399523735046], [0.113824263215065], [0.11481675505638123], [0.11567026376724243], [0.11639489233493805], [0.11700941622257233], [0.11753818392753601], [0.11800776422023773], [0.11844445765018463], [0.11887167394161224], [0.11930881440639496], [0.11977006494998932], [0.1202644556760788], [0.12079611420631409], [0.12136487662792206], [0.12196728587150574], [0.12259748578071594], [0.12324830889701843], [0.12391214072704315], [0.12458154559135437], [0.1252499371767044], [0.12591199576854706], [0.1265636533498764], [0.1272023320198059]]\n"
          ]
        }
      ]
    },
    {
      "cell_type": "code",
      "metadata": {
        "id": "WjT25_2mI4jP"
      },
      "source": [
        "day_new =  np.arange (1,101)\n",
        "day_pred = np.arange (101,131)"
      ],
      "id": "WjT25_2mI4jP",
      "execution_count": 37,
      "outputs": []
    },
    {
      "cell_type": "code",
      "metadata": {
        "colab": {
          "base_uri": "https://localhost:8080/"
        },
        "id": "2euvgY00JoLA",
        "outputId": "524b3f70-72d5-48b2-d750-2ae3b059c553"
      },
      "source": [
        "len(df2)"
      ],
      "id": "2euvgY00JoLA",
      "execution_count": 38,
      "outputs": [
        {
          "output_type": "execute_result",
          "data": {
            "text/plain": [
              "1257"
            ]
          },
          "metadata": {},
          "execution_count": 38
        }
      ]
    },
    {
      "cell_type": "code",
      "metadata": {
        "id": "OMOZVGoaKHgs"
      },
      "source": [
        "df3 = df2.tolist ()\n",
        "df3.extend (lst_output)"
      ],
      "id": "OMOZVGoaKHgs",
      "execution_count": 39,
      "outputs": []
    },
    {
      "cell_type": "code",
      "metadata": {
        "colab": {
          "base_uri": "https://localhost:8080/",
          "height": 282
        },
        "id": "GKT9kdEhKTEl",
        "outputId": "ed123a0d-b22c-4758-aaf4-0ba49ad3b10f"
      },
      "source": [
        "plt.plot(day_new,scaler.inverse_transform(df2[1157:]))\n",
        "plt.plot(day_pred,scaler.inverse_transform(lst_output))"
      ],
      "id": "GKT9kdEhKTEl",
      "execution_count": 40,
      "outputs": [
        {
          "output_type": "execute_result",
          "data": {
            "text/plain": [
              "[<matplotlib.lines.Line2D at 0x7f2d93240e10>]"
            ]
          },
          "metadata": {},
          "execution_count": 40
        },
        {
          "output_type": "display_data",
          "data": {
            "image/png": "[encoded data removed]",
            "text/plain": [
              "<Figure size 432x288 with 1 Axes>"
            ]
          },
          "metadata": {
            "needs_background": "light"
          }
        }
      ]
    },
    {
      "cell_type": "code",
      "metadata": {
        "id": "l1QdbhfAKon0"
      },
      "source": [
        ""
      ],
      "id": "l1QdbhfAKon0",
      "execution_count": 40,
      "outputs": []
    }
  ]
}